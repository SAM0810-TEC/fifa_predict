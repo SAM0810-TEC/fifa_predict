{
 "cells": [
  {
   "cell_type": "code",
   "execution_count": 1,
   "id": "5db51418",
   "metadata": {},
   "outputs": [],
   "source": [
    "import numpy as np\n",
    "import pandas as pd"
   ]
  },
  {
   "cell_type": "code",
   "execution_count": 2,
   "id": "6908dada",
   "metadata": {},
   "outputs": [],
   "source": [
    "import pandas as pd\n",
    "import re"
   ]
  },
  {
   "cell_type": "code",
   "execution_count": 4,
   "id": "09e774b9",
   "metadata": {},
   "outputs": [],
   "source": [
    "df =  pd.read_csv(\"results.csv\")"
   ]
  },
  {
   "cell_type": "code",
   "execution_count": 5,
   "id": "45f38031",
   "metadata": {},
   "outputs": [],
   "source": [
    "df[\"date\"] = pd.to_datetime(df[\"date\"])\n"
   ]
  },
  {
   "cell_type": "code",
   "execution_count": 6,
   "id": "ca34999c",
   "metadata": {},
   "outputs": [
    {
     "data": {
      "text/plain": [
       "date          0\n",
       "home_team     0\n",
       "away_team     0\n",
       "home_score    0\n",
       "away_score    0\n",
       "tournament    0\n",
       "city          0\n",
       "country       0\n",
       "neutral       0\n",
       "dtype: int64"
      ]
     },
     "execution_count": 6,
     "metadata": {},
     "output_type": "execute_result"
    }
   ],
   "source": [
    "df.isna().sum()\n"
   ]
  },
  {
   "cell_type": "code",
   "execution_count": 7,
   "id": "ec720e1b",
   "metadata": {},
   "outputs": [],
   "source": [
    "df.dropna(inplace=True)\n"
   ]
  },
  {
   "cell_type": "code",
   "execution_count": 8,
   "id": "d7dc1940",
   "metadata": {},
   "outputs": [
    {
     "data": {
      "text/html": [
       "<div>\n",
       "<style scoped>\n",
       "    .dataframe tbody tr th:only-of-type {\n",
       "        vertical-align: middle;\n",
       "    }\n",
       "\n",
       "    .dataframe tbody tr th {\n",
       "        vertical-align: top;\n",
       "    }\n",
       "\n",
       "    .dataframe thead th {\n",
       "        text-align: right;\n",
       "    }\n",
       "</style>\n",
       "<table border=\"1\" class=\"dataframe\">\n",
       "  <thead>\n",
       "    <tr style=\"text-align: right;\">\n",
       "      <th></th>\n",
       "      <th>date</th>\n",
       "      <th>home_team</th>\n",
       "      <th>away_team</th>\n",
       "      <th>home_score</th>\n",
       "      <th>away_score</th>\n",
       "      <th>tournament</th>\n",
       "      <th>city</th>\n",
       "      <th>country</th>\n",
       "      <th>neutral</th>\n",
       "    </tr>\n",
       "  </thead>\n",
       "  <tbody>\n",
       "    <tr>\n",
       "      <th>44336</th>\n",
       "      <td>2022-12-04</td>\n",
       "      <td>England</td>\n",
       "      <td>Senegal</td>\n",
       "      <td>3</td>\n",
       "      <td>0</td>\n",
       "      <td>FIFA World Cup</td>\n",
       "      <td>Al Khor</td>\n",
       "      <td>Qatar</td>\n",
       "      <td>True</td>\n",
       "    </tr>\n",
       "    <tr>\n",
       "      <th>44337</th>\n",
       "      <td>2022-12-05</td>\n",
       "      <td>Japan</td>\n",
       "      <td>Croatia</td>\n",
       "      <td>1</td>\n",
       "      <td>1</td>\n",
       "      <td>FIFA World Cup</td>\n",
       "      <td>Al Wakrah</td>\n",
       "      <td>Qatar</td>\n",
       "      <td>True</td>\n",
       "    </tr>\n",
       "    <tr>\n",
       "      <th>44338</th>\n",
       "      <td>2022-12-05</td>\n",
       "      <td>Brazil</td>\n",
       "      <td>South Korea</td>\n",
       "      <td>4</td>\n",
       "      <td>1</td>\n",
       "      <td>FIFA World Cup</td>\n",
       "      <td>Doha</td>\n",
       "      <td>Qatar</td>\n",
       "      <td>True</td>\n",
       "    </tr>\n",
       "    <tr>\n",
       "      <th>44339</th>\n",
       "      <td>2022-12-06</td>\n",
       "      <td>Morocco</td>\n",
       "      <td>Spain</td>\n",
       "      <td>0</td>\n",
       "      <td>0</td>\n",
       "      <td>FIFA World Cup</td>\n",
       "      <td>Al Rayyan</td>\n",
       "      <td>Qatar</td>\n",
       "      <td>True</td>\n",
       "    </tr>\n",
       "    <tr>\n",
       "      <th>44340</th>\n",
       "      <td>2022-12-06</td>\n",
       "      <td>Portugal</td>\n",
       "      <td>Switzerland</td>\n",
       "      <td>6</td>\n",
       "      <td>1</td>\n",
       "      <td>FIFA World Cup</td>\n",
       "      <td>Lusail</td>\n",
       "      <td>Qatar</td>\n",
       "      <td>True</td>\n",
       "    </tr>\n",
       "  </tbody>\n",
       "</table>\n",
       "</div>"
      ],
      "text/plain": [
       "            date home_team    away_team  home_score  away_score  \\\n",
       "44336 2022-12-04   England      Senegal           3           0   \n",
       "44337 2022-12-05     Japan      Croatia           1           1   \n",
       "44338 2022-12-05    Brazil  South Korea           4           1   \n",
       "44339 2022-12-06   Morocco        Spain           0           0   \n",
       "44340 2022-12-06  Portugal  Switzerland           6           1   \n",
       "\n",
       "           tournament       city country  neutral  \n",
       "44336  FIFA World Cup    Al Khor   Qatar     True  \n",
       "44337  FIFA World Cup  Al Wakrah   Qatar     True  \n",
       "44338  FIFA World Cup       Doha   Qatar     True  \n",
       "44339  FIFA World Cup  Al Rayyan   Qatar     True  \n",
       "44340  FIFA World Cup     Lusail   Qatar     True  "
      ]
     },
     "execution_count": 8,
     "metadata": {},
     "output_type": "execute_result"
    }
   ],
   "source": [
    "df.sort_values(\"date\").tail()\n"
   ]
  },
  {
   "cell_type": "code",
   "execution_count": 9,
   "id": "7a726e30",
   "metadata": {},
   "outputs": [],
   "source": [
    "df = df[(df[\"date\"] >= \"2018-8-1\")].reset_index(drop=True)"
   ]
  },
  {
   "cell_type": "code",
   "execution_count": 10,
   "id": "1dbd88f5",
   "metadata": {},
   "outputs": [
    {
     "data": {
      "text/html": [
       "<div>\n",
       "<style scoped>\n",
       "    .dataframe tbody tr th:only-of-type {\n",
       "        vertical-align: middle;\n",
       "    }\n",
       "\n",
       "    .dataframe tbody tr th {\n",
       "        vertical-align: top;\n",
       "    }\n",
       "\n",
       "    .dataframe thead th {\n",
       "        text-align: right;\n",
       "    }\n",
       "</style>\n",
       "<table border=\"1\" class=\"dataframe\">\n",
       "  <thead>\n",
       "    <tr style=\"text-align: right;\">\n",
       "      <th></th>\n",
       "      <th>date</th>\n",
       "      <th>home_team</th>\n",
       "      <th>away_team</th>\n",
       "      <th>home_score</th>\n",
       "      <th>away_score</th>\n",
       "      <th>tournament</th>\n",
       "      <th>city</th>\n",
       "      <th>country</th>\n",
       "      <th>neutral</th>\n",
       "    </tr>\n",
       "  </thead>\n",
       "  <tbody>\n",
       "    <tr>\n",
       "      <th>0</th>\n",
       "      <td>2018-08-04</td>\n",
       "      <td>Belize</td>\n",
       "      <td>Barbados</td>\n",
       "      <td>1</td>\n",
       "      <td>0</td>\n",
       "      <td>Friendly</td>\n",
       "      <td>San Pedro</td>\n",
       "      <td>Belize</td>\n",
       "      <td>False</td>\n",
       "    </tr>\n",
       "    <tr>\n",
       "      <th>1</th>\n",
       "      <td>2018-08-04</td>\n",
       "      <td>Palestine</td>\n",
       "      <td>Iraq</td>\n",
       "      <td>0</td>\n",
       "      <td>3</td>\n",
       "      <td>Friendly</td>\n",
       "      <td>Al-Ram</td>\n",
       "      <td>Palestine</td>\n",
       "      <td>False</td>\n",
       "    </tr>\n",
       "    <tr>\n",
       "      <th>2</th>\n",
       "      <td>2018-08-15</td>\n",
       "      <td>Guatemala</td>\n",
       "      <td>Cuba</td>\n",
       "      <td>3</td>\n",
       "      <td>0</td>\n",
       "      <td>Friendly</td>\n",
       "      <td>Guatemala City</td>\n",
       "      <td>Guatemala</td>\n",
       "      <td>False</td>\n",
       "    </tr>\n",
       "    <tr>\n",
       "      <th>3</th>\n",
       "      <td>2018-08-18</td>\n",
       "      <td>Andorra</td>\n",
       "      <td>United Arab Emirates</td>\n",
       "      <td>0</td>\n",
       "      <td>0</td>\n",
       "      <td>Friendly</td>\n",
       "      <td>Grödig</td>\n",
       "      <td>Austria</td>\n",
       "      <td>True</td>\n",
       "    </tr>\n",
       "    <tr>\n",
       "      <th>4</th>\n",
       "      <td>2018-08-18</td>\n",
       "      <td>Grenada</td>\n",
       "      <td>Jamaica</td>\n",
       "      <td>1</td>\n",
       "      <td>5</td>\n",
       "      <td>Friendly</td>\n",
       "      <td>St. George's</td>\n",
       "      <td>Grenada</td>\n",
       "      <td>False</td>\n",
       "    </tr>\n",
       "  </tbody>\n",
       "</table>\n",
       "</div>"
      ],
      "text/plain": [
       "        date  home_team             away_team  home_score  away_score  \\\n",
       "0 2018-08-04     Belize              Barbados           1           0   \n",
       "1 2018-08-04  Palestine                  Iraq           0           3   \n",
       "2 2018-08-15  Guatemala                  Cuba           3           0   \n",
       "3 2018-08-18    Andorra  United Arab Emirates           0           0   \n",
       "4 2018-08-18    Grenada               Jamaica           1           5   \n",
       "\n",
       "  tournament            city    country  neutral  \n",
       "0   Friendly       San Pedro     Belize    False  \n",
       "1   Friendly          Al-Ram  Palestine    False  \n",
       "2   Friendly  Guatemala City  Guatemala    False  \n",
       "3   Friendly          Grödig    Austria     True  \n",
       "4   Friendly    St. George's    Grenada    False  "
      ]
     },
     "execution_count": 10,
     "metadata": {},
     "output_type": "execute_result"
    }
   ],
   "source": [
    "df.sort_values(\"date\").head()\n"
   ]
  },
  {
   "cell_type": "code",
   "execution_count": 11,
   "id": "2f7e8486",
   "metadata": {},
   "outputs": [
    {
     "data": {
      "text/plain": [
       "United States    46\n",
       "Mexico           43\n",
       "Qatar            43\n",
       "Japan            42\n",
       "South Korea      39\n",
       "                 ..\n",
       "Chameria          1\n",
       "Székely Land      1\n",
       "Catalonia         1\n",
       "Cascadia          1\n",
       "Orkney            1\n",
       "Name: home_team, Length: 247, dtype: int64"
      ]
     },
     "execution_count": 11,
     "metadata": {},
     "output_type": "execute_result"
    }
   ],
   "source": [
    "df.home_team.value_counts()\n"
   ]
  },
  {
   "cell_type": "code",
   "execution_count": 12,
   "id": "6ff72eb0",
   "metadata": {},
   "outputs": [],
   "source": [
    "rank = pd.read_csv(\"fifa_ranking-2022-10-06.csv\")"
   ]
  },
  {
   "cell_type": "code",
   "execution_count": 13,
   "id": "feb79a2b",
   "metadata": {},
   "outputs": [],
   "source": [
    "rank[\"rank_date\"] = pd.to_datetime(rank[\"rank_date\"])\n",
    "rank = rank[(rank[\"rank_date\"] >= \"2018-8-1\")].reset_index(drop=True)\n"
   ]
  },
  {
   "cell_type": "code",
   "execution_count": 14,
   "id": "c52c7e41",
   "metadata": {},
   "outputs": [],
   "source": [
    "rank[\"country_full\"] = rank[\"country_full\"].str.replace(\"IR Iran\", \"Iran\").str.replace(\"Korea Republic\", \"South Korea\").str.replace(\"USA\", \"United States\")"
   ]
  },
  {
   "cell_type": "code",
   "execution_count": 15,
   "id": "77aabdbe",
   "metadata": {},
   "outputs": [],
   "source": [
    "rank = rank.set_index(['rank_date']).groupby(['country_full'], group_keys=False).resample('D').first().fillna(method='ffill').reset_index()\n"
   ]
  },
  {
   "cell_type": "code",
   "execution_count": 16,
   "id": "64a17a2f",
   "metadata": {},
   "outputs": [
    {
     "data": {
      "text/html": [
       "<div>\n",
       "<style scoped>\n",
       "    .dataframe tbody tr th:only-of-type {\n",
       "        vertical-align: middle;\n",
       "    }\n",
       "\n",
       "    .dataframe tbody tr th {\n",
       "        vertical-align: top;\n",
       "    }\n",
       "\n",
       "    .dataframe thead th {\n",
       "        text-align: right;\n",
       "    }\n",
       "</style>\n",
       "<table border=\"1\" class=\"dataframe\">\n",
       "  <thead>\n",
       "    <tr style=\"text-align: right;\">\n",
       "      <th></th>\n",
       "      <th>date</th>\n",
       "      <th>home_team</th>\n",
       "      <th>away_team</th>\n",
       "      <th>home_score</th>\n",
       "      <th>away_score</th>\n",
       "      <th>tournament</th>\n",
       "      <th>city</th>\n",
       "      <th>country</th>\n",
       "      <th>neutral</th>\n",
       "      <th>total_points_home</th>\n",
       "      <th>previous_points_home</th>\n",
       "      <th>rank_home</th>\n",
       "      <th>rank_change_home</th>\n",
       "      <th>total_points_away</th>\n",
       "      <th>previous_points_away</th>\n",
       "      <th>rank_away</th>\n",
       "      <th>rank_change_away</th>\n",
       "    </tr>\n",
       "  </thead>\n",
       "  <tbody>\n",
       "    <tr>\n",
       "      <th>2896</th>\n",
       "      <td>2022-03-29</td>\n",
       "      <td>Bolivia</td>\n",
       "      <td>Brazil</td>\n",
       "      <td>0</td>\n",
       "      <td>4</td>\n",
       "      <td>FIFA World Cup qualification</td>\n",
       "      <td>La Paz</td>\n",
       "      <td>Bolivia</td>\n",
       "      <td>False</td>\n",
       "      <td>1308.12</td>\n",
       "      <td>1324.21</td>\n",
       "      <td>76.0</td>\n",
       "      <td>-1.0</td>\n",
       "      <td>1823.42</td>\n",
       "      <td>1826.35</td>\n",
       "      <td>2.0</td>\n",
       "      <td>0.0</td>\n",
       "    </tr>\n",
       "    <tr>\n",
       "      <th>2988</th>\n",
       "      <td>2022-06-02</td>\n",
       "      <td>South Korea</td>\n",
       "      <td>Brazil</td>\n",
       "      <td>1</td>\n",
       "      <td>5</td>\n",
       "      <td>Friendly</td>\n",
       "      <td>Seoul</td>\n",
       "      <td>South Korea</td>\n",
       "      <td>False</td>\n",
       "      <td>1519.54</td>\n",
       "      <td>1522.85</td>\n",
       "      <td>29.0</td>\n",
       "      <td>0.0</td>\n",
       "      <td>1832.69</td>\n",
       "      <td>1823.42</td>\n",
       "      <td>1.0</td>\n",
       "      <td>-1.0</td>\n",
       "    </tr>\n",
       "    <tr>\n",
       "      <th>3056</th>\n",
       "      <td>2022-06-06</td>\n",
       "      <td>Japan</td>\n",
       "      <td>Brazil</td>\n",
       "      <td>0</td>\n",
       "      <td>1</td>\n",
       "      <td>Friendly</td>\n",
       "      <td>Tokyo</td>\n",
       "      <td>Japan</td>\n",
       "      <td>False</td>\n",
       "      <td>1553.44</td>\n",
       "      <td>1549.82</td>\n",
       "      <td>23.0</td>\n",
       "      <td>0.0</td>\n",
       "      <td>1832.69</td>\n",
       "      <td>1823.42</td>\n",
       "      <td>1.0</td>\n",
       "      <td>-1.0</td>\n",
       "    </tr>\n",
       "    <tr>\n",
       "      <th>3234</th>\n",
       "      <td>2022-09-23</td>\n",
       "      <td>Brazil</td>\n",
       "      <td>Ghana</td>\n",
       "      <td>3</td>\n",
       "      <td>0</td>\n",
       "      <td>Friendly</td>\n",
       "      <td>Le Havre</td>\n",
       "      <td>France</td>\n",
       "      <td>True</td>\n",
       "      <td>1837.56</td>\n",
       "      <td>1837.56</td>\n",
       "      <td>1.0</td>\n",
       "      <td>0.0</td>\n",
       "      <td>1393.47</td>\n",
       "      <td>1389.68</td>\n",
       "      <td>60.0</td>\n",
       "      <td>0.0</td>\n",
       "    </tr>\n",
       "    <tr>\n",
       "      <th>3303</th>\n",
       "      <td>2022-09-27</td>\n",
       "      <td>Brazil</td>\n",
       "      <td>Tunisia</td>\n",
       "      <td>5</td>\n",
       "      <td>1</td>\n",
       "      <td>Friendly</td>\n",
       "      <td>Paris</td>\n",
       "      <td>France</td>\n",
       "      <td>True</td>\n",
       "      <td>1837.56</td>\n",
       "      <td>1837.56</td>\n",
       "      <td>1.0</td>\n",
       "      <td>0.0</td>\n",
       "      <td>1507.86</td>\n",
       "      <td>1507.86</td>\n",
       "      <td>30.0</td>\n",
       "      <td>0.0</td>\n",
       "    </tr>\n",
       "  </tbody>\n",
       "</table>\n",
       "</div>"
      ],
      "text/plain": [
       "           date    home_team away_team  home_score  away_score  \\\n",
       "2896 2022-03-29      Bolivia    Brazil           0           4   \n",
       "2988 2022-06-02  South Korea    Brazil           1           5   \n",
       "3056 2022-06-06        Japan    Brazil           0           1   \n",
       "3234 2022-09-23       Brazil     Ghana           3           0   \n",
       "3303 2022-09-27       Brazil   Tunisia           5           1   \n",
       "\n",
       "                        tournament      city      country  neutral  \\\n",
       "2896  FIFA World Cup qualification    La Paz      Bolivia    False   \n",
       "2988                      Friendly     Seoul  South Korea    False   \n",
       "3056                      Friendly     Tokyo        Japan    False   \n",
       "3234                      Friendly  Le Havre       France     True   \n",
       "3303                      Friendly     Paris       France     True   \n",
       "\n",
       "      total_points_home  previous_points_home  rank_home  rank_change_home  \\\n",
       "2896            1308.12               1324.21       76.0              -1.0   \n",
       "2988            1519.54               1522.85       29.0               0.0   \n",
       "3056            1553.44               1549.82       23.0               0.0   \n",
       "3234            1837.56               1837.56        1.0               0.0   \n",
       "3303            1837.56               1837.56        1.0               0.0   \n",
       "\n",
       "      total_points_away  previous_points_away  rank_away  rank_change_away  \n",
       "2896            1823.42               1826.35        2.0               0.0  \n",
       "2988            1832.69               1823.42        1.0              -1.0  \n",
       "3056            1832.69               1823.42        1.0              -1.0  \n",
       "3234            1393.47               1389.68       60.0               0.0  \n",
       "3303            1507.86               1507.86       30.0               0.0  "
      ]
     },
     "execution_count": 16,
     "metadata": {},
     "output_type": "execute_result"
    }
   ],
   "source": [
    "df_wc_ranked = df.merge(rank[[\"country_full\", \"total_points\", \"previous_points\", \"rank\", \"rank_change\", \"rank_date\"]], left_on=[\"date\", \"home_team\"], right_on=[\"rank_date\", \"country_full\"]).drop([\"rank_date\", \"country_full\"], axis=1)\n",
    "\n",
    "df_wc_ranked = df_wc_ranked.merge(rank[[\"country_full\", \"total_points\", \"previous_points\", \"rank\", \"rank_change\", \"rank_date\"]], left_on=[\"date\", \"away_team\"], right_on=[\"rank_date\", \"country_full\"], suffixes=(\"_home\", \"_away\")).drop([\"rank_date\", \"country_full\"], axis=1)\n",
    "df_wc_ranked[(df_wc_ranked.home_team == \"Brazil\") | (df_wc_ranked.away_team == \"Brazil\")].tail()"
   ]
  },
  {
   "cell_type": "code",
   "execution_count": 17,
   "id": "d552449a",
   "metadata": {},
   "outputs": [],
   "source": [
    "df = df_wc_ranked\n",
    "\n"
   ]
  },
  {
   "cell_type": "code",
   "execution_count": 18,
   "id": "3b0d9761",
   "metadata": {},
   "outputs": [],
   "source": [
    "def result_finder(home, away):\n",
    "    if home > away:\n",
    "        return pd.Series([0, 3, 0])\n",
    "    if home < away:\n",
    "        return pd.Series([1, 0, 3])\n",
    "    else:\n",
    "        return pd.Series([2, 1, 1])\n",
    "\n",
    "results = df.apply(lambda x: result_finder(x[\"home_score\"], x[\"away_score\"]), axis=1)"
   ]
  },
  {
   "cell_type": "code",
   "execution_count": 19,
   "id": "b422f3b9",
   "metadata": {},
   "outputs": [],
   "source": [
    "df[[\"result\", \"home_team_points\", \"away_team_points\"]] = results"
   ]
  },
  {
   "cell_type": "code",
   "execution_count": 20,
   "id": "738845fa",
   "metadata": {},
   "outputs": [
    {
     "data": {
      "image/png": "[encoded data removed]",
      "text/plain": [
       "<Figure size 1080x720 with 2 Axes>"
      ]
     },
     "metadata": {
      "needs_background": "light"
     },
     "output_type": "display_data"
    }
   ],
   "source": [
    "import seaborn as sns\n",
    "import matplotlib.pyplot as plt\n",
    "\n",
    "plt.figure(figsize=(15, 10))\n",
    "sns.heatmap(df[[\"total_points_home\", \"rank_home\", \"total_points_away\", \"rank_away\"]].corr())\n",
    "plt.show()"
   ]
  },
  {
   "cell_type": "code",
   "execution_count": 21,
   "id": "6208ad26",
   "metadata": {},
   "outputs": [],
   "source": [
    "df[\"rank_dif\"] = df[\"rank_home\"] - df[\"rank_away\"]\n",
    "df[\"sg\"] = df[\"home_score\"] - df[\"away_score\"]\n",
    "df[\"points_home_by_rank\"] = df[\"home_team_points\"]/df[\"rank_away\"]\n",
    "df[\"points_away_by_rank\"] = df[\"away_team_points\"]/df[\"rank_home\"]"
   ]
  },
  {
   "cell_type": "code",
   "execution_count": 22,
   "id": "db7e849d",
   "metadata": {},
   "outputs": [],
   "source": [
    "home_team = df[[\"date\", \"home_team\", \"home_score\", \"away_score\", \"rank_home\", \"rank_away\",\"rank_change_home\", \"total_points_home\", \"result\", \"rank_dif\", \"points_home_by_rank\", \"home_team_points\"]]\n",
    "\n",
    "away_team = df[[\"date\", \"away_team\", \"away_score\", \"home_score\", \"rank_away\", \"rank_home\",\"rank_change_away\", \"total_points_away\", \"result\", \"rank_dif\", \"points_away_by_rank\", \"away_team_points\"]]"
   ]
  },
  {
   "cell_type": "code",
   "execution_count": 24,
   "id": "aa659bc3",
   "metadata": {},
   "outputs": [],
   "source": [
    "home_team.columns = [h.replace(\"home_\", \"\").replace(\"_home\", \"\").replace(\"away_\", \"suf_\").replace(\"_away\", \"_suf\") for h in home_team.columns]\n",
    "\n",
    "away_team.columns = [a.replace(\"away_\", \"\").replace(\"_away\", \"\").replace(\"home_\", \"suf_\").replace(\"_home\", \"_suf\") for a in away_team.columns]\n"
   ]
  },
  {
   "cell_type": "code",
   "execution_count": 25,
   "id": "bce2328b",
   "metadata": {},
   "outputs": [
    {
     "name": "stderr",
     "output_type": "stream",
     "text": [
      "C:\\Users\\Windows 10 Pro\\AppData\\Local\\Temp\\ipykernel_11036\\275322566.py:1: FutureWarning: The frame.append method is deprecated and will be removed from pandas in a future version. Use pandas.concat instead.\n",
      "  team_stats = home_team.append(away_team)#.sort_values(\"date\")\n"
     ]
    }
   ],
   "source": [
    "team_stats = home_team.append(away_team)#.sort_values(\"date\")"
   ]
  },
  {
   "cell_type": "code",
   "execution_count": 26,
   "id": "6075feef",
   "metadata": {},
   "outputs": [],
   "source": [
    "team_stats_raw = team_stats.copy()\n"
   ]
  },
  {
   "cell_type": "code",
   "execution_count": 27,
   "id": "19965e6f",
   "metadata": {},
   "outputs": [],
   "source": [
    "stats_val = []\n",
    "\n",
    "for index, row in team_stats.iterrows():\n",
    "    team = row[\"team\"]\n",
    "    date = row[\"date\"]\n",
    "    past_games = team_stats.loc[(team_stats[\"team\"] == team) & (team_stats[\"date\"] < date)].sort_values(by=['date'], ascending=False)\n",
    "    last5 = past_games.head(5)\n",
    "    \n",
    "    goals = past_games[\"score\"].mean()\n",
    "    goals_l5 = last5[\"score\"].mean()\n",
    "    \n",
    "    goals_suf = past_games[\"suf_score\"].mean()\n",
    "    goals_suf_l5 = last5[\"suf_score\"].mean()\n",
    "    \n",
    "    rank = past_games[\"rank_suf\"].mean()\n",
    "    rank_l5 = last5[\"rank_suf\"].mean()\n",
    "    \n",
    "    if len(last5) > 0:\n",
    "        points = past_games[\"total_points\"].values[0] - past_games[\"total_points\"].values[-1]#qtd de pontos ganhos\n",
    "        points_l5 = last5[\"total_points\"].values[0] - last5[\"total_points\"].values[-1] \n",
    "    else:\n",
    "        points = 0\n",
    "        points_l5 = 0\n",
    "        \n",
    "    gp = past_games[\"team_points\"].mean()\n",
    "    gp_l5 = last5[\"team_points\"].mean()\n",
    "    \n",
    "    gp_rank = past_games[\"points_by_rank\"].mean()\n",
    "    gp_rank_l5 = last5[\"points_by_rank\"].mean()\n",
    "    \n",
    "    stats_val.append([goals, goals_l5, goals_suf, goals_suf_l5, rank, rank_l5, points, points_l5, gp, gp_l5, gp_rank, gp_rank_l5])\n",
    "stats_cols = [\"goals_mean\", \"goals_mean_l5\", \"goals_suf_mean\", \"goals_suf_mean_l5\", \"rank_mean\", \"rank_mean_l5\", \"points_mean\", \"points_mean_l5\", \"game_points_mean\", \"game_points_mean_l5\", \"game_points_rank_mean\", \"game_points_rank_mean_l5\"]\n",
    "\n",
    "stats_df = pd.DataFrame(stats_val, columns=stats_cols)\n",
    "\n",
    "full_df = pd.concat([team_stats.reset_index(drop=True), stats_df], axis=1, ignore_index=False)\n",
    "home_team_stats = full_df.iloc[:int(full_df.shape[0]/2),:]\n",
    "away_team_stats = full_df.iloc[int(full_df.shape[0]/2):,:]\n",
    "\n"
   ]
  },
  {
   "cell_type": "code",
   "execution_count": 28,
   "id": "e09a2461",
   "metadata": {},
   "outputs": [
    {
     "data": {
      "text/plain": [
       "Index(['goals_mean', 'goals_mean_l5', 'goals_suf_mean', 'goals_suf_mean_l5',\n",
       "       'rank_mean', 'rank_mean_l5', 'points_mean', 'points_mean_l5',\n",
       "       'game_points_mean', 'game_points_mean_l5', 'game_points_rank_mean',\n",
       "       'game_points_rank_mean_l5'],\n",
       "      dtype='object')"
      ]
     },
     "execution_count": 28,
     "metadata": {},
     "output_type": "execute_result"
    }
   ],
   "source": [
    "home_team_stats.columns[-12:]\n"
   ]
  },
  {
   "cell_type": "code",
   "execution_count": 29,
   "id": "61e828ab",
   "metadata": {},
   "outputs": [],
   "source": [
    "home_team_stats = home_team_stats[home_team_stats.columns[-12:]]\n",
    "away_team_stats = away_team_stats[away_team_stats.columns[-12:]]"
   ]
  },
  {
   "cell_type": "code",
   "execution_count": 30,
   "id": "4fa2144c",
   "metadata": {},
   "outputs": [],
   "source": [
    "home_team_stats.columns = ['home_'+str(col) for col in home_team_stats.columns]\n",
    "away_team_stats.columns = ['away_'+str(col) for col in away_team_stats.columns]"
   ]
  },
  {
   "cell_type": "code",
   "execution_count": 31,
   "id": "052dfb6b",
   "metadata": {},
   "outputs": [],
   "source": [
    "match_stats = pd.concat([home_team_stats, away_team_stats.reset_index(drop=True)], axis=1, ignore_index=False)"
   ]
  },
  {
   "cell_type": "code",
   "execution_count": 32,
   "id": "4c71d3fc",
   "metadata": {},
   "outputs": [],
   "source": [
    "full_df = pd.concat([df, match_stats.reset_index(drop=True)], axis=1, ignore_index=False)\n"
   ]
  },
  {
   "cell_type": "code",
   "execution_count": 33,
   "id": "7cbd60f5",
   "metadata": {},
   "outputs": [
    {
     "data": {
      "text/plain": [
       "Index(['date', 'home_team', 'away_team', 'home_score', 'away_score',\n",
       "       'tournament', 'city', 'country', 'neutral', 'total_points_home',\n",
       "       'previous_points_home', 'rank_home', 'rank_change_home',\n",
       "       'total_points_away', 'previous_points_away', 'rank_away',\n",
       "       'rank_change_away', 'result', 'home_team_points', 'away_team_points',\n",
       "       'rank_dif', 'sg', 'points_home_by_rank', 'points_away_by_rank',\n",
       "       'home_goals_mean', 'home_goals_mean_l5', 'home_goals_suf_mean',\n",
       "       'home_goals_suf_mean_l5', 'home_rank_mean', 'home_rank_mean_l5',\n",
       "       'home_points_mean', 'home_points_mean_l5', 'home_game_points_mean',\n",
       "       'home_game_points_mean_l5', 'home_game_points_rank_mean',\n",
       "       'home_game_points_rank_mean_l5', 'away_goals_mean',\n",
       "       'away_goals_mean_l5', 'away_goals_suf_mean', 'away_goals_suf_mean_l5',\n",
       "       'away_rank_mean', 'away_rank_mean_l5', 'away_points_mean',\n",
       "       'away_points_mean_l5', 'away_game_points_mean',\n",
       "       'away_game_points_mean_l5', 'away_game_points_rank_mean',\n",
       "       'away_game_points_rank_mean_l5'],\n",
       "      dtype='object')"
      ]
     },
     "execution_count": 33,
     "metadata": {},
     "output_type": "execute_result"
    }
   ],
   "source": [
    "full_df.columns\n"
   ]
  },
  {
   "cell_type": "code",
   "execution_count": 34,
   "id": "62add883",
   "metadata": {},
   "outputs": [],
   "source": [
    "def find_friendly(x):\n",
    "    if x == \"Friendly\":\n",
    "        return 1\n",
    "    else: return 0\n",
    "\n",
    "full_df[\"is_friendly\"] = full_df[\"tournament\"].apply(lambda x: find_friendly(x)) \n",
    "\n",
    "\n"
   ]
  },
  {
   "cell_type": "code",
   "execution_count": 35,
   "id": "e06b37c7",
   "metadata": {},
   "outputs": [],
   "source": [
    "full_df = pd.get_dummies(full_df, columns=[\"is_friendly\"])\n",
    "\n"
   ]
  },
  {
   "cell_type": "code",
   "execution_count": 36,
   "id": "cd72cb81",
   "metadata": {},
   "outputs": [
    {
     "data": {
      "text/plain": [
       "Index(['date', 'home_team', 'away_team', 'home_score', 'away_score',\n",
       "       'tournament', 'city', 'country', 'neutral', 'total_points_home',\n",
       "       'previous_points_home', 'rank_home', 'rank_change_home',\n",
       "       'total_points_away', 'previous_points_away', 'rank_away',\n",
       "       'rank_change_away', 'result', 'home_team_points', 'away_team_points',\n",
       "       'rank_dif', 'sg', 'points_home_by_rank', 'points_away_by_rank',\n",
       "       'home_goals_mean', 'home_goals_mean_l5', 'home_goals_suf_mean',\n",
       "       'home_goals_suf_mean_l5', 'home_rank_mean', 'home_rank_mean_l5',\n",
       "       'home_points_mean', 'home_points_mean_l5', 'home_game_points_mean',\n",
       "       'home_game_points_mean_l5', 'home_game_points_rank_mean',\n",
       "       'home_game_points_rank_mean_l5', 'away_goals_mean',\n",
       "       'away_goals_mean_l5', 'away_goals_suf_mean', 'away_goals_suf_mean_l5',\n",
       "       'away_rank_mean', 'away_rank_mean_l5', 'away_points_mean',\n",
       "       'away_points_mean_l5', 'away_game_points_mean',\n",
       "       'away_game_points_mean_l5', 'away_game_points_rank_mean',\n",
       "       'away_game_points_rank_mean_l5', 'is_friendly_0', 'is_friendly_1'],\n",
       "      dtype='object')"
      ]
     },
     "execution_count": 36,
     "metadata": {},
     "output_type": "execute_result"
    }
   ],
   "source": [
    "full_df.columns\n"
   ]
  },
  {
   "cell_type": "code",
   "execution_count": 37,
   "id": "248359bb",
   "metadata": {},
   "outputs": [
    {
     "data": {
      "text/html": [
       "<div>\n",
       "<style scoped>\n",
       "    .dataframe tbody tr th:only-of-type {\n",
       "        vertical-align: middle;\n",
       "    }\n",
       "\n",
       "    .dataframe tbody tr th {\n",
       "        vertical-align: top;\n",
       "    }\n",
       "\n",
       "    .dataframe thead th {\n",
       "        text-align: right;\n",
       "    }\n",
       "</style>\n",
       "<table border=\"1\" class=\"dataframe\">\n",
       "  <thead>\n",
       "    <tr style=\"text-align: right;\">\n",
       "      <th></th>\n",
       "      <th>date</th>\n",
       "      <th>home_team</th>\n",
       "      <th>away_team</th>\n",
       "      <th>rank_home</th>\n",
       "      <th>rank_away</th>\n",
       "      <th>home_score</th>\n",
       "      <th>away_score</th>\n",
       "      <th>result</th>\n",
       "      <th>rank_dif</th>\n",
       "      <th>rank_change_home</th>\n",
       "      <th>...</th>\n",
       "      <th>home_game_points_mean</th>\n",
       "      <th>home_game_points_mean_l5</th>\n",
       "      <th>home_game_points_rank_mean</th>\n",
       "      <th>home_game_points_rank_mean_l5</th>\n",
       "      <th>away_game_points_mean</th>\n",
       "      <th>away_game_points_mean_l5</th>\n",
       "      <th>away_game_points_rank_mean</th>\n",
       "      <th>away_game_points_rank_mean_l5</th>\n",
       "      <th>is_friendly_0</th>\n",
       "      <th>is_friendly_1</th>\n",
       "    </tr>\n",
       "  </thead>\n",
       "  <tbody>\n",
       "    <tr>\n",
       "      <th>0</th>\n",
       "      <td>2018-08-18</td>\n",
       "      <td>Andorra</td>\n",
       "      <td>United Arab Emirates</td>\n",
       "      <td>130.0</td>\n",
       "      <td>77.0</td>\n",
       "      <td>0</td>\n",
       "      <td>0</td>\n",
       "      <td>2</td>\n",
       "      <td>53.0</td>\n",
       "      <td>0.0</td>\n",
       "      <td>...</td>\n",
       "      <td>NaN</td>\n",
       "      <td>NaN</td>\n",
       "      <td>NaN</td>\n",
       "      <td>NaN</td>\n",
       "      <td>NaN</td>\n",
       "      <td>NaN</td>\n",
       "      <td>NaN</td>\n",
       "      <td>NaN</td>\n",
       "      <td>0</td>\n",
       "      <td>1</td>\n",
       "    </tr>\n",
       "    <tr>\n",
       "      <th>1</th>\n",
       "      <td>2018-08-18</td>\n",
       "      <td>Grenada</td>\n",
       "      <td>Jamaica</td>\n",
       "      <td>168.0</td>\n",
       "      <td>54.0</td>\n",
       "      <td>1</td>\n",
       "      <td>5</td>\n",
       "      <td>1</td>\n",
       "      <td>114.0</td>\n",
       "      <td>0.0</td>\n",
       "      <td>...</td>\n",
       "      <td>NaN</td>\n",
       "      <td>NaN</td>\n",
       "      <td>NaN</td>\n",
       "      <td>NaN</td>\n",
       "      <td>NaN</td>\n",
       "      <td>NaN</td>\n",
       "      <td>NaN</td>\n",
       "      <td>NaN</td>\n",
       "      <td>0</td>\n",
       "      <td>1</td>\n",
       "    </tr>\n",
       "    <tr>\n",
       "      <th>2</th>\n",
       "      <td>2018-08-18</td>\n",
       "      <td>Guatemala</td>\n",
       "      <td>Cuba</td>\n",
       "      <td>146.0</td>\n",
       "      <td>181.0</td>\n",
       "      <td>1</td>\n",
       "      <td>0</td>\n",
       "      <td>0</td>\n",
       "      <td>-35.0</td>\n",
       "      <td>0.0</td>\n",
       "      <td>...</td>\n",
       "      <td>NaN</td>\n",
       "      <td>NaN</td>\n",
       "      <td>NaN</td>\n",
       "      <td>NaN</td>\n",
       "      <td>NaN</td>\n",
       "      <td>NaN</td>\n",
       "      <td>NaN</td>\n",
       "      <td>NaN</td>\n",
       "      <td>0</td>\n",
       "      <td>1</td>\n",
       "    </tr>\n",
       "    <tr>\n",
       "      <th>3</th>\n",
       "      <td>2018-08-20</td>\n",
       "      <td>Barbados</td>\n",
       "      <td>Jamaica</td>\n",
       "      <td>160.0</td>\n",
       "      <td>54.0</td>\n",
       "      <td>2</td>\n",
       "      <td>2</td>\n",
       "      <td>2</td>\n",
       "      <td>106.0</td>\n",
       "      <td>0.0</td>\n",
       "      <td>...</td>\n",
       "      <td>NaN</td>\n",
       "      <td>NaN</td>\n",
       "      <td>NaN</td>\n",
       "      <td>NaN</td>\n",
       "      <td>3.0</td>\n",
       "      <td>3.0</td>\n",
       "      <td>0.017857</td>\n",
       "      <td>0.017857</td>\n",
       "      <td>0</td>\n",
       "      <td>1</td>\n",
       "    </tr>\n",
       "    <tr>\n",
       "      <th>4</th>\n",
       "      <td>2018-08-26</td>\n",
       "      <td>Barbados</td>\n",
       "      <td>Cuba</td>\n",
       "      <td>160.0</td>\n",
       "      <td>181.0</td>\n",
       "      <td>0</td>\n",
       "      <td>0</td>\n",
       "      <td>2</td>\n",
       "      <td>-21.0</td>\n",
       "      <td>0.0</td>\n",
       "      <td>...</td>\n",
       "      <td>1.0</td>\n",
       "      <td>1.0</td>\n",
       "      <td>0.018519</td>\n",
       "      <td>0.018519</td>\n",
       "      <td>0.0</td>\n",
       "      <td>0.0</td>\n",
       "      <td>0.000000</td>\n",
       "      <td>0.000000</td>\n",
       "      <td>0</td>\n",
       "      <td>1</td>\n",
       "    </tr>\n",
       "  </tbody>\n",
       "</table>\n",
       "<p>5 rows × 37 columns</p>\n",
       "</div>"
      ],
      "text/plain": [
       "        date  home_team             away_team  rank_home  rank_away  \\\n",
       "0 2018-08-18    Andorra  United Arab Emirates      130.0       77.0   \n",
       "1 2018-08-18    Grenada               Jamaica      168.0       54.0   \n",
       "2 2018-08-18  Guatemala                  Cuba      146.0      181.0   \n",
       "3 2018-08-20   Barbados               Jamaica      160.0       54.0   \n",
       "4 2018-08-26   Barbados                  Cuba      160.0      181.0   \n",
       "\n",
       "   home_score  away_score  result  rank_dif  rank_change_home  ...  \\\n",
       "0           0           0       2      53.0               0.0  ...   \n",
       "1           1           5       1     114.0               0.0  ...   \n",
       "2           1           0       0     -35.0               0.0  ...   \n",
       "3           2           2       2     106.0               0.0  ...   \n",
       "4           0           0       2     -21.0               0.0  ...   \n",
       "\n",
       "   home_game_points_mean  home_game_points_mean_l5  \\\n",
       "0                    NaN                       NaN   \n",
       "1                    NaN                       NaN   \n",
       "2                    NaN                       NaN   \n",
       "3                    NaN                       NaN   \n",
       "4                    1.0                       1.0   \n",
       "\n",
       "   home_game_points_rank_mean  home_game_points_rank_mean_l5  \\\n",
       "0                         NaN                            NaN   \n",
       "1                         NaN                            NaN   \n",
       "2                         NaN                            NaN   \n",
       "3                         NaN                            NaN   \n",
       "4                    0.018519                       0.018519   \n",
       "\n",
       "   away_game_points_mean  away_game_points_mean_l5  \\\n",
       "0                    NaN                       NaN   \n",
       "1                    NaN                       NaN   \n",
       "2                    NaN                       NaN   \n",
       "3                    3.0                       3.0   \n",
       "4                    0.0                       0.0   \n",
       "\n",
       "   away_game_points_rank_mean  away_game_points_rank_mean_l5  is_friendly_0  \\\n",
       "0                         NaN                            NaN              0   \n",
       "1                         NaN                            NaN              0   \n",
       "2                         NaN                            NaN              0   \n",
       "3                    0.017857                       0.017857              0   \n",
       "4                    0.000000                       0.000000              0   \n",
       "\n",
       "   is_friendly_1  \n",
       "0              1  \n",
       "1              1  \n",
       "2              1  \n",
       "3              1  \n",
       "4              1  \n",
       "\n",
       "[5 rows x 37 columns]"
      ]
     },
     "execution_count": 37,
     "metadata": {},
     "output_type": "execute_result"
    }
   ],
   "source": [
    "base_df = full_df[[\"date\", \"home_team\", \"away_team\", \"rank_home\", \"rank_away\",\"home_score\", \"away_score\",\"result\", \"rank_dif\", \"rank_change_home\", \"rank_change_away\", 'home_goals_mean',\n",
    "       'home_goals_mean_l5', 'home_goals_suf_mean', 'home_goals_suf_mean_l5',\n",
    "       'home_rank_mean', 'home_rank_mean_l5', 'home_points_mean',\n",
    "       'home_points_mean_l5', 'away_goals_mean', 'away_goals_mean_l5',\n",
    "       'away_goals_suf_mean', 'away_goals_suf_mean_l5', 'away_rank_mean',\n",
    "       'away_rank_mean_l5', 'away_points_mean', 'away_points_mean_l5','home_game_points_mean', 'home_game_points_mean_l5',\n",
    "       'home_game_points_rank_mean', 'home_game_points_rank_mean_l5','away_game_points_mean',\n",
    "       'away_game_points_mean_l5', 'away_game_points_rank_mean',\n",
    "       'away_game_points_rank_mean_l5',\n",
    "       'is_friendly_0', 'is_friendly_1']]\n",
    "\n",
    "base_df.head()\n"
   ]
  },
  {
   "cell_type": "code",
   "execution_count": 38,
   "id": "9c9301c2",
   "metadata": {},
   "outputs": [
    {
     "data": {
      "text/plain": [
       "date                               0\n",
       "home_team                          0\n",
       "away_team                          0\n",
       "rank_home                          0\n",
       "rank_away                          0\n",
       "home_score                         0\n",
       "away_score                         0\n",
       "result                             0\n",
       "rank_dif                           0\n",
       "rank_change_home                   0\n",
       "rank_change_away                   0\n",
       "home_goals_mean                  101\n",
       "home_goals_mean_l5               101\n",
       "home_goals_suf_mean              101\n",
       "home_goals_suf_mean_l5           101\n",
       "home_rank_mean                   101\n",
       "home_rank_mean_l5                101\n",
       "home_points_mean                   0\n",
       "home_points_mean_l5                0\n",
       "away_goals_mean                  100\n",
       "away_goals_mean_l5               100\n",
       "away_goals_suf_mean              100\n",
       "away_goals_suf_mean_l5           100\n",
       "away_rank_mean                   100\n",
       "away_rank_mean_l5                100\n",
       "away_points_mean                   0\n",
       "away_points_mean_l5                0\n",
       "home_game_points_mean            101\n",
       "home_game_points_mean_l5         101\n",
       "home_game_points_rank_mean       101\n",
       "home_game_points_rank_mean_l5    101\n",
       "away_game_points_mean            100\n",
       "away_game_points_mean_l5         100\n",
       "away_game_points_rank_mean       100\n",
       "away_game_points_rank_mean_l5    100\n",
       "is_friendly_0                      0\n",
       "is_friendly_1                      0\n",
       "dtype: int64"
      ]
     },
     "execution_count": 38,
     "metadata": {},
     "output_type": "execute_result"
    }
   ],
   "source": [
    "base_df.isna().sum()\n"
   ]
  },
  {
   "cell_type": "code",
   "execution_count": 39,
   "id": "a8810a99",
   "metadata": {},
   "outputs": [],
   "source": [
    "base_df_no_fg = base_df.dropna()\n"
   ]
  },
  {
   "cell_type": "code",
   "execution_count": 40,
   "id": "d23398a5",
   "metadata": {},
   "outputs": [],
   "source": [
    "df = base_df_no_fg\n"
   ]
  },
  {
   "cell_type": "code",
   "execution_count": 41,
   "id": "2c0c2311",
   "metadata": {},
   "outputs": [
    {
     "name": "stderr",
     "output_type": "stream",
     "text": [
      "C:\\Users\\Windows 10 Pro\\AppData\\Local\\Temp\\ipykernel_11036\\1906038641.py:7: SettingWithCopyWarning: \n",
      "A value is trying to be set on a copy of a slice from a DataFrame.\n",
      "Try using .loc[row_indexer,col_indexer] = value instead\n",
      "\n",
      "See the caveats in the documentation: https://pandas.pydata.org/pandas-docs/stable/user_guide/indexing.html#returning-a-view-versus-a-copy\n",
      "  df[\"target\"] = df[\"result\"].apply(lambda x: no_draw(x))\n"
     ]
    }
   ],
   "source": [
    "def no_draw(x):\n",
    "    if x == 2:\n",
    "        return 1\n",
    "    else:\n",
    "        return x\n",
    "    \n",
    "df[\"target\"] = df[\"result\"].apply(lambda x: no_draw(x))"
   ]
  },
  {
   "cell_type": "code",
   "execution_count": 42,
   "id": "695a93a9",
   "metadata": {},
   "outputs": [],
   "source": [
    "data1 = df[list(df.columns[8:20].values) + [\"target\"]]\n",
    "data2 = df[df.columns[20:]]"
   ]
  },
  {
   "cell_type": "code",
   "execution_count": 43,
   "id": "b84483fe",
   "metadata": {},
   "outputs": [],
   "source": [
    "scaled = (data1[:-1] - data1[:-1].mean()) / data1[:-1].std()\n",
    "scaled[\"target\"] = data1[\"target\"]\n",
    "violin1 = pd.melt(scaled,id_vars=\"target\", var_name=\"features\", value_name=\"value\")\n",
    "\n",
    "scaled = (data2[:-1] - data2[:-1].mean()) / data2[:-1].std()\n",
    "scaled[\"target\"] = data2[\"target\"]\n",
    "violin2 = pd.melt(scaled,id_vars=\"target\", var_name=\"features\", value_name=\"value\")"
   ]
  },
  {
   "cell_type": "code",
   "execution_count": 44,
   "id": "f798af79",
   "metadata": {},
   "outputs": [
    {
     "data": {
      "image/png": "[encoded data removed]",
      "text/plain": [
       "<Figure size 1080x720 with 1 Axes>"
      ]
     },
     "metadata": {
      "needs_background": "light"
     },
     "output_type": "display_data"
    }
   ],
   "source": [
    "plt.figure(figsize=(15,10))\n",
    "sns.violinplot(x=\"features\", y=\"value\", hue=\"target\", data=violin1,split=True, inner=\"quart\")\n",
    "plt.xticks(rotation=90)\n",
    "plt.show()"
   ]
  },
  {
   "cell_type": "code",
   "execution_count": 45,
   "id": "6f88a961",
   "metadata": {},
   "outputs": [
    {
     "data": {
      "image/png": "[encoded data removed]",
      "text/plain": [
       "<Figure size 720x720 with 1 Axes>"
      ]
     },
     "metadata": {
      "needs_background": "light"
     },
     "output_type": "display_data"
    }
   ],
   "source": [
    "dif = df.copy()\n",
    "dif.loc[:, \"goals_dif\"] = dif[\"home_goals_mean\"] - dif[\"away_goals_mean\"]\n",
    "dif.loc[:, \"goals_dif_l5\"] = dif[\"home_goals_mean_l5\"] - dif[\"away_goals_mean_l5\"]\n",
    "dif.loc[:, \"goals_suf_dif\"] = dif[\"home_goals_suf_mean\"] - dif[\"away_goals_suf_mean\"]\n",
    "dif.loc[:, \"goals_suf_dif_l5\"] = dif[\"home_goals_suf_mean_l5\"] - dif[\"away_goals_suf_mean_l5\"]\n",
    "dif.loc[:, \"goals_made_suf_dif\"] = dif[\"home_goals_mean\"] - dif[\"away_goals_suf_mean\"]\n",
    "dif.loc[:, \"goals_made_suf_dif_l5\"] = dif[\"home_goals_mean_l5\"] - dif[\"away_goals_suf_mean_l5\"]\n",
    "dif.loc[:, \"goals_suf_made_dif\"] = dif[\"home_goals_suf_mean\"] - dif[\"away_goals_mean\"]\n",
    "dif.loc[:, \"goals_suf_made_dif_l5\"] = dif[\"home_goals_suf_mean_l5\"] - dif[\"away_goals_mean_l5\"]\n",
    "data_difs = dif.iloc[:, -8:]\n",
    "scaled = (data_difs - data_difs.mean()) / data_difs.std()\n",
    "scaled[\"target\"] = data2[\"target\"]\n",
    "violin = pd.melt(scaled,id_vars=\"target\", var_name=\"features\", value_name=\"value\")\n",
    "\n",
    "plt.figure(figsize=(10,10))\n",
    "sns.violinplot(x=\"features\", y=\"value\", hue=\"target\", data=violin,split=True, inner=\"quart\")\n",
    "plt.xticks(rotation=90)\n",
    "plt.show()"
   ]
  },
  {
   "cell_type": "code",
   "execution_count": 46,
   "id": "3e505d13",
   "metadata": {},
   "outputs": [
    {
     "data": {
      "image/png": "[encoded data removed]",
      "text/plain": [
       "<Figure size 1080x720 with 1 Axes>"
      ]
     },
     "metadata": {
      "needs_background": "light"
     },
     "output_type": "display_data"
    }
   ],
   "source": [
    "plt.figure(figsize=(15,10))\n",
    "sns.boxplot(x=\"features\", y=\"value\", hue=\"target\", data=violin)\n",
    "plt.xticks(rotation=90)\n",
    "plt.show()"
   ]
  },
  {
   "cell_type": "code",
   "execution_count": 47,
   "id": "26750dc2",
   "metadata": {},
   "outputs": [
    {
     "ename": "ValueError",
     "evalue": "Could not interpret value `goals_per_ranking_dif` for parameter `x`",
     "output_type": "error",
     "traceback": [
      "\u001b[1;31m---------------------------------------------------------------------------\u001b[0m",
      "\u001b[1;31mValueError\u001b[0m                                Traceback (most recent call last)",
      "Input \u001b[1;32mIn [47]\u001b[0m, in \u001b[0;36m<cell line: 1>\u001b[1;34m()\u001b[0m\n\u001b[1;32m----> 1\u001b[0m \u001b[43msns\u001b[49m\u001b[38;5;241;43m.\u001b[39;49m\u001b[43mjointplot\u001b[49m\u001b[43m(\u001b[49m\u001b[43mdata\u001b[49m\u001b[43m \u001b[49m\u001b[38;5;241;43m=\u001b[39;49m\u001b[43m \u001b[49m\u001b[43mdata_difs\u001b[49m\u001b[43m,\u001b[49m\u001b[43m \u001b[49m\u001b[43mx\u001b[49m\u001b[43m \u001b[49m\u001b[38;5;241;43m=\u001b[39;49m\u001b[43m \u001b[49m\u001b[38;5;124;43m'\u001b[39;49m\u001b[38;5;124;43mgoals_per_ranking_dif\u001b[39;49m\u001b[38;5;124;43m'\u001b[39;49m\u001b[43m,\u001b[49m\u001b[43m \u001b[49m\u001b[43my\u001b[49m\u001b[43m \u001b[49m\u001b[38;5;241;43m=\u001b[39;49m\u001b[43m \u001b[49m\u001b[38;5;124;43m'\u001b[39;49m\u001b[38;5;124;43mgoals_per_ranking_dif_l5\u001b[39;49m\u001b[38;5;124;43m'\u001b[39;49m\u001b[43m,\u001b[49m\u001b[43m \u001b[49m\u001b[43mkind\u001b[49m\u001b[38;5;241;43m=\u001b[39;49m\u001b[38;5;124;43m\"\u001b[39;49m\u001b[38;5;124;43mreg\u001b[39;49m\u001b[38;5;124;43m\"\u001b[39;49m\u001b[43m)\u001b[49m\n\u001b[0;32m      2\u001b[0m plt\u001b[38;5;241m.\u001b[39mshow()\n",
      "File \u001b[1;32mC:\\ProgramData\\Anaconda\\lib\\site-packages\\seaborn\\_decorators.py:46\u001b[0m, in \u001b[0;36m_deprecate_positional_args.<locals>.inner_f\u001b[1;34m(*args, **kwargs)\u001b[0m\n\u001b[0;32m     36\u001b[0m     warnings\u001b[38;5;241m.\u001b[39mwarn(\n\u001b[0;32m     37\u001b[0m         \u001b[38;5;124m\"\u001b[39m\u001b[38;5;124mPass the following variable\u001b[39m\u001b[38;5;132;01m{}\u001b[39;00m\u001b[38;5;124m as \u001b[39m\u001b[38;5;132;01m{}\u001b[39;00m\u001b[38;5;124mkeyword arg\u001b[39m\u001b[38;5;132;01m{}\u001b[39;00m\u001b[38;5;124m: \u001b[39m\u001b[38;5;132;01m{}\u001b[39;00m\u001b[38;5;124m. \u001b[39m\u001b[38;5;124m\"\u001b[39m\n\u001b[0;32m     38\u001b[0m         \u001b[38;5;124m\"\u001b[39m\u001b[38;5;124mFrom version 0.12, the only valid positional argument \u001b[39m\u001b[38;5;124m\"\u001b[39m\n\u001b[1;32m   (...)\u001b[0m\n\u001b[0;32m     43\u001b[0m         \u001b[38;5;167;01mFutureWarning\u001b[39;00m\n\u001b[0;32m     44\u001b[0m     )\n\u001b[0;32m     45\u001b[0m kwargs\u001b[38;5;241m.\u001b[39mupdate({k: arg \u001b[38;5;28;01mfor\u001b[39;00m k, arg \u001b[38;5;129;01min\u001b[39;00m \u001b[38;5;28mzip\u001b[39m(sig\u001b[38;5;241m.\u001b[39mparameters, args)})\n\u001b[1;32m---> 46\u001b[0m \u001b[38;5;28;01mreturn\u001b[39;00m f(\u001b[38;5;241m*\u001b[39m\u001b[38;5;241m*\u001b[39mkwargs)\n",
      "File \u001b[1;32mC:\\ProgramData\\Anaconda\\lib\\site-packages\\seaborn\\axisgrid.py:2230\u001b[0m, in \u001b[0;36mjointplot\u001b[1;34m(x, y, data, kind, color, height, ratio, space, dropna, xlim, ylim, marginal_ticks, joint_kws, marginal_kws, hue, palette, hue_order, hue_norm, **kwargs)\u001b[0m\n\u001b[0;32m   2227\u001b[0m     dropna \u001b[38;5;241m=\u001b[39m \u001b[38;5;28;01mTrue\u001b[39;00m\n\u001b[0;32m   2229\u001b[0m \u001b[38;5;66;03m# Initialize the JointGrid object\u001b[39;00m\n\u001b[1;32m-> 2230\u001b[0m grid \u001b[38;5;241m=\u001b[39m \u001b[43mJointGrid\u001b[49m\u001b[43m(\u001b[49m\n\u001b[0;32m   2231\u001b[0m \u001b[43m    \u001b[49m\u001b[43mdata\u001b[49m\u001b[38;5;241;43m=\u001b[39;49m\u001b[43mdata\u001b[49m\u001b[43m,\u001b[49m\u001b[43m \u001b[49m\u001b[43mx\u001b[49m\u001b[38;5;241;43m=\u001b[39;49m\u001b[43mx\u001b[49m\u001b[43m,\u001b[49m\u001b[43m \u001b[49m\u001b[43my\u001b[49m\u001b[38;5;241;43m=\u001b[39;49m\u001b[43my\u001b[49m\u001b[43m,\u001b[49m\u001b[43m \u001b[49m\u001b[43mhue\u001b[49m\u001b[38;5;241;43m=\u001b[39;49m\u001b[43mhue\u001b[49m\u001b[43m,\u001b[49m\n\u001b[0;32m   2232\u001b[0m \u001b[43m    \u001b[49m\u001b[43mpalette\u001b[49m\u001b[38;5;241;43m=\u001b[39;49m\u001b[43mpalette\u001b[49m\u001b[43m,\u001b[49m\u001b[43m \u001b[49m\u001b[43mhue_order\u001b[49m\u001b[38;5;241;43m=\u001b[39;49m\u001b[43mhue_order\u001b[49m\u001b[43m,\u001b[49m\u001b[43m \u001b[49m\u001b[43mhue_norm\u001b[49m\u001b[38;5;241;43m=\u001b[39;49m\u001b[43mhue_norm\u001b[49m\u001b[43m,\u001b[49m\n\u001b[0;32m   2233\u001b[0m \u001b[43m    \u001b[49m\u001b[43mdropna\u001b[49m\u001b[38;5;241;43m=\u001b[39;49m\u001b[43mdropna\u001b[49m\u001b[43m,\u001b[49m\u001b[43m \u001b[49m\u001b[43mheight\u001b[49m\u001b[38;5;241;43m=\u001b[39;49m\u001b[43mheight\u001b[49m\u001b[43m,\u001b[49m\u001b[43m \u001b[49m\u001b[43mratio\u001b[49m\u001b[38;5;241;43m=\u001b[39;49m\u001b[43mratio\u001b[49m\u001b[43m,\u001b[49m\u001b[43m \u001b[49m\u001b[43mspace\u001b[49m\u001b[38;5;241;43m=\u001b[39;49m\u001b[43mspace\u001b[49m\u001b[43m,\u001b[49m\n\u001b[0;32m   2234\u001b[0m \u001b[43m    \u001b[49m\u001b[43mxlim\u001b[49m\u001b[38;5;241;43m=\u001b[39;49m\u001b[43mxlim\u001b[49m\u001b[43m,\u001b[49m\u001b[43m \u001b[49m\u001b[43mylim\u001b[49m\u001b[38;5;241;43m=\u001b[39;49m\u001b[43mylim\u001b[49m\u001b[43m,\u001b[49m\u001b[43m \u001b[49m\u001b[43mmarginal_ticks\u001b[49m\u001b[38;5;241;43m=\u001b[39;49m\u001b[43mmarginal_ticks\u001b[49m\u001b[43m,\u001b[49m\n\u001b[0;32m   2235\u001b[0m \u001b[43m\u001b[49m\u001b[43m)\u001b[49m\n\u001b[0;32m   2237\u001b[0m \u001b[38;5;28;01mif\u001b[39;00m grid\u001b[38;5;241m.\u001b[39mhue \u001b[38;5;129;01mis\u001b[39;00m \u001b[38;5;129;01mnot\u001b[39;00m \u001b[38;5;28;01mNone\u001b[39;00m:\n\u001b[0;32m   2238\u001b[0m     marginal_kws\u001b[38;5;241m.\u001b[39msetdefault(\u001b[38;5;124m\"\u001b[39m\u001b[38;5;124mlegend\u001b[39m\u001b[38;5;124m\"\u001b[39m, \u001b[38;5;28;01mFalse\u001b[39;00m)\n",
      "File \u001b[1;32mC:\\ProgramData\\Anaconda\\lib\\site-packages\\seaborn\\_decorators.py:46\u001b[0m, in \u001b[0;36m_deprecate_positional_args.<locals>.inner_f\u001b[1;34m(*args, **kwargs)\u001b[0m\n\u001b[0;32m     36\u001b[0m     warnings\u001b[38;5;241m.\u001b[39mwarn(\n\u001b[0;32m     37\u001b[0m         \u001b[38;5;124m\"\u001b[39m\u001b[38;5;124mPass the following variable\u001b[39m\u001b[38;5;132;01m{}\u001b[39;00m\u001b[38;5;124m as \u001b[39m\u001b[38;5;132;01m{}\u001b[39;00m\u001b[38;5;124mkeyword arg\u001b[39m\u001b[38;5;132;01m{}\u001b[39;00m\u001b[38;5;124m: \u001b[39m\u001b[38;5;132;01m{}\u001b[39;00m\u001b[38;5;124m. \u001b[39m\u001b[38;5;124m\"\u001b[39m\n\u001b[0;32m     38\u001b[0m         \u001b[38;5;124m\"\u001b[39m\u001b[38;5;124mFrom version 0.12, the only valid positional argument \u001b[39m\u001b[38;5;124m\"\u001b[39m\n\u001b[1;32m   (...)\u001b[0m\n\u001b[0;32m     43\u001b[0m         \u001b[38;5;167;01mFutureWarning\u001b[39;00m\n\u001b[0;32m     44\u001b[0m     )\n\u001b[0;32m     45\u001b[0m kwargs\u001b[38;5;241m.\u001b[39mupdate({k: arg \u001b[38;5;28;01mfor\u001b[39;00m k, arg \u001b[38;5;129;01min\u001b[39;00m \u001b[38;5;28mzip\u001b[39m(sig\u001b[38;5;241m.\u001b[39mparameters, args)})\n\u001b[1;32m---> 46\u001b[0m \u001b[38;5;28;01mreturn\u001b[39;00m f(\u001b[38;5;241m*\u001b[39m\u001b[38;5;241m*\u001b[39mkwargs)\n",
      "File \u001b[1;32mC:\\ProgramData\\Anaconda\\lib\\site-packages\\seaborn\\axisgrid.py:1702\u001b[0m, in \u001b[0;36mJointGrid.__init__\u001b[1;34m(self, x, y, data, height, ratio, space, dropna, xlim, ylim, size, marginal_ticks, hue, palette, hue_order, hue_norm)\u001b[0m\n\u001b[0;32m   1699\u001b[0m     ax_marg_y\u001b[38;5;241m.\u001b[39mxaxis\u001b[38;5;241m.\u001b[39mgrid(\u001b[38;5;28;01mFalse\u001b[39;00m)\n\u001b[0;32m   1701\u001b[0m \u001b[38;5;66;03m# Process the input variables\u001b[39;00m\n\u001b[1;32m-> 1702\u001b[0m p \u001b[38;5;241m=\u001b[39m \u001b[43mVectorPlotter\u001b[49m\u001b[43m(\u001b[49m\u001b[43mdata\u001b[49m\u001b[38;5;241;43m=\u001b[39;49m\u001b[43mdata\u001b[49m\u001b[43m,\u001b[49m\u001b[43m \u001b[49m\u001b[43mvariables\u001b[49m\u001b[38;5;241;43m=\u001b[39;49m\u001b[38;5;28;43mdict\u001b[39;49m\u001b[43m(\u001b[49m\u001b[43mx\u001b[49m\u001b[38;5;241;43m=\u001b[39;49m\u001b[43mx\u001b[49m\u001b[43m,\u001b[49m\u001b[43m \u001b[49m\u001b[43my\u001b[49m\u001b[38;5;241;43m=\u001b[39;49m\u001b[43my\u001b[49m\u001b[43m,\u001b[49m\u001b[43m \u001b[49m\u001b[43mhue\u001b[49m\u001b[38;5;241;43m=\u001b[39;49m\u001b[43mhue\u001b[49m\u001b[43m)\u001b[49m\u001b[43m)\u001b[49m\n\u001b[0;32m   1703\u001b[0m plot_data \u001b[38;5;241m=\u001b[39m p\u001b[38;5;241m.\u001b[39mplot_data\u001b[38;5;241m.\u001b[39mloc[:, p\u001b[38;5;241m.\u001b[39mplot_data\u001b[38;5;241m.\u001b[39mnotna()\u001b[38;5;241m.\u001b[39many()]\n\u001b[0;32m   1705\u001b[0m \u001b[38;5;66;03m# Possibly drop NA\u001b[39;00m\n",
      "File \u001b[1;32mC:\\ProgramData\\Anaconda\\lib\\site-packages\\seaborn\\_core.py:605\u001b[0m, in \u001b[0;36mVectorPlotter.__init__\u001b[1;34m(self, data, variables)\u001b[0m\n\u001b[0;32m    603\u001b[0m \u001b[38;5;28;01mdef\u001b[39;00m \u001b[38;5;21m__init__\u001b[39m(\u001b[38;5;28mself\u001b[39m, data\u001b[38;5;241m=\u001b[39m\u001b[38;5;28;01mNone\u001b[39;00m, variables\u001b[38;5;241m=\u001b[39m{}):\n\u001b[1;32m--> 605\u001b[0m     \u001b[38;5;28;43mself\u001b[39;49m\u001b[38;5;241;43m.\u001b[39;49m\u001b[43massign_variables\u001b[49m\u001b[43m(\u001b[49m\u001b[43mdata\u001b[49m\u001b[43m,\u001b[49m\u001b[43m \u001b[49m\u001b[43mvariables\u001b[49m\u001b[43m)\u001b[49m\n\u001b[0;32m    607\u001b[0m     \u001b[38;5;28;01mfor\u001b[39;00m var, \u001b[38;5;28mcls\u001b[39m \u001b[38;5;129;01min\u001b[39;00m \u001b[38;5;28mself\u001b[39m\u001b[38;5;241m.\u001b[39m_semantic_mappings\u001b[38;5;241m.\u001b[39mitems():\n\u001b[0;32m    608\u001b[0m \n\u001b[0;32m    609\u001b[0m         \u001b[38;5;66;03m# Create the mapping function\u001b[39;00m\n\u001b[0;32m    610\u001b[0m         map_func \u001b[38;5;241m=\u001b[39m partial(\u001b[38;5;28mcls\u001b[39m\u001b[38;5;241m.\u001b[39mmap, plotter\u001b[38;5;241m=\u001b[39m\u001b[38;5;28mself\u001b[39m)\n",
      "File \u001b[1;32mC:\\ProgramData\\Anaconda\\lib\\site-packages\\seaborn\\_core.py:668\u001b[0m, in \u001b[0;36mVectorPlotter.assign_variables\u001b[1;34m(self, data, variables)\u001b[0m\n\u001b[0;32m    666\u001b[0m \u001b[38;5;28;01melse\u001b[39;00m:\n\u001b[0;32m    667\u001b[0m     \u001b[38;5;28mself\u001b[39m\u001b[38;5;241m.\u001b[39minput_format \u001b[38;5;241m=\u001b[39m \u001b[38;5;124m\"\u001b[39m\u001b[38;5;124mlong\u001b[39m\u001b[38;5;124m\"\u001b[39m\n\u001b[1;32m--> 668\u001b[0m     plot_data, variables \u001b[38;5;241m=\u001b[39m \u001b[38;5;28mself\u001b[39m\u001b[38;5;241m.\u001b[39m_assign_variables_longform(\n\u001b[0;32m    669\u001b[0m         data, \u001b[38;5;241m*\u001b[39m\u001b[38;5;241m*\u001b[39mvariables,\n\u001b[0;32m    670\u001b[0m     )\n\u001b[0;32m    672\u001b[0m \u001b[38;5;28mself\u001b[39m\u001b[38;5;241m.\u001b[39mplot_data \u001b[38;5;241m=\u001b[39m plot_data\n\u001b[0;32m    673\u001b[0m \u001b[38;5;28mself\u001b[39m\u001b[38;5;241m.\u001b[39mvariables \u001b[38;5;241m=\u001b[39m variables\n",
      "File \u001b[1;32mC:\\ProgramData\\Anaconda\\lib\\site-packages\\seaborn\\_core.py:903\u001b[0m, in \u001b[0;36mVectorPlotter._assign_variables_longform\u001b[1;34m(self, data, **kwargs)\u001b[0m\n\u001b[0;32m    898\u001b[0m \u001b[38;5;28;01melif\u001b[39;00m \u001b[38;5;28misinstance\u001b[39m(val, (\u001b[38;5;28mstr\u001b[39m, \u001b[38;5;28mbytes\u001b[39m)):\n\u001b[0;32m    899\u001b[0m \n\u001b[0;32m    900\u001b[0m     \u001b[38;5;66;03m# This looks like a column name but we don't know what it means!\u001b[39;00m\n\u001b[0;32m    902\u001b[0m     err \u001b[38;5;241m=\u001b[39m \u001b[38;5;124mf\u001b[39m\u001b[38;5;124m\"\u001b[39m\u001b[38;5;124mCould not interpret value `\u001b[39m\u001b[38;5;132;01m{\u001b[39;00mval\u001b[38;5;132;01m}\u001b[39;00m\u001b[38;5;124m` for parameter `\u001b[39m\u001b[38;5;132;01m{\u001b[39;00mkey\u001b[38;5;132;01m}\u001b[39;00m\u001b[38;5;124m`\u001b[39m\u001b[38;5;124m\"\u001b[39m\n\u001b[1;32m--> 903\u001b[0m     \u001b[38;5;28;01mraise\u001b[39;00m \u001b[38;5;167;01mValueError\u001b[39;00m(err)\n\u001b[0;32m    905\u001b[0m \u001b[38;5;28;01melse\u001b[39;00m:\n\u001b[0;32m    906\u001b[0m \n\u001b[0;32m    907\u001b[0m     \u001b[38;5;66;03m# Otherwise, assume the value is itself data\u001b[39;00m\n\u001b[0;32m    908\u001b[0m \n\u001b[0;32m    909\u001b[0m     \u001b[38;5;66;03m# Raise when data object is present and a vector can't matched\u001b[39;00m\n\u001b[0;32m    910\u001b[0m     \u001b[38;5;28;01mif\u001b[39;00m \u001b[38;5;28misinstance\u001b[39m(data, pd\u001b[38;5;241m.\u001b[39mDataFrame) \u001b[38;5;129;01mand\u001b[39;00m \u001b[38;5;129;01mnot\u001b[39;00m \u001b[38;5;28misinstance\u001b[39m(val, pd\u001b[38;5;241m.\u001b[39mSeries):\n",
      "\u001b[1;31mValueError\u001b[0m: Could not interpret value `goals_per_ranking_dif` for parameter `x`"
     ]
    },
    {
     "data": {
      "image/png": "[encoded data removed]",
      "text/plain": [
       "<Figure size 432x432 with 3 Axes>"
      ]
     },
     "metadata": {
      "needs_background": "light"
     },
     "output_type": "display_data"
    }
   ],
   "source": [
    "sns.jointplot(data = data_difs, x = 'goals_per_ranking_dif', y = 'goals_per_ranking_dif_l5', kind=\"reg\")\n",
    "plt.show()"
   ]
  },
  {
   "cell_type": "code",
   "execution_count": 48,
   "id": "10555f55",
   "metadata": {},
   "outputs": [
    {
     "ename": "ValueError",
     "evalue": "Could not interpret value `dif_points` for parameter `x`",
     "output_type": "error",
     "traceback": [
      "\u001b[1;31m---------------------------------------------------------------------------\u001b[0m",
      "\u001b[1;31mValueError\u001b[0m                                Traceback (most recent call last)",
      "Input \u001b[1;32mIn [48]\u001b[0m, in \u001b[0;36m<cell line: 1>\u001b[1;34m()\u001b[0m\n\u001b[1;32m----> 1\u001b[0m \u001b[43msns\u001b[49m\u001b[38;5;241;43m.\u001b[39;49m\u001b[43mjointplot\u001b[49m\u001b[43m(\u001b[49m\u001b[43mdata\u001b[49m\u001b[43m \u001b[49m\u001b[38;5;241;43m=\u001b[39;49m\u001b[43m \u001b[49m\u001b[43mdata_difs\u001b[49m\u001b[43m,\u001b[49m\u001b[43m \u001b[49m\u001b[43mx\u001b[49m\u001b[43m \u001b[49m\u001b[38;5;241;43m=\u001b[39;49m\u001b[43m \u001b[49m\u001b[38;5;124;43m'\u001b[39;49m\u001b[38;5;124;43mdif_points\u001b[39;49m\u001b[38;5;124;43m'\u001b[39;49m\u001b[43m,\u001b[49m\u001b[43m \u001b[49m\u001b[43my\u001b[49m\u001b[43m \u001b[49m\u001b[38;5;241;43m=\u001b[39;49m\u001b[43m \u001b[49m\u001b[38;5;124;43m'\u001b[39;49m\u001b[38;5;124;43mdif_points_l5\u001b[39;49m\u001b[38;5;124;43m'\u001b[39;49m\u001b[43m,\u001b[49m\u001b[43m \u001b[49m\u001b[43mkind\u001b[49m\u001b[38;5;241;43m=\u001b[39;49m\u001b[38;5;124;43m\"\u001b[39;49m\u001b[38;5;124;43mreg\u001b[39;49m\u001b[38;5;124;43m\"\u001b[39;49m\u001b[43m)\u001b[49m\n\u001b[0;32m      2\u001b[0m plt\u001b[38;5;241m.\u001b[39mshow()\n",
      "File \u001b[1;32mC:\\ProgramData\\Anaconda\\lib\\site-packages\\seaborn\\_decorators.py:46\u001b[0m, in \u001b[0;36m_deprecate_positional_args.<locals>.inner_f\u001b[1;34m(*args, **kwargs)\u001b[0m\n\u001b[0;32m     36\u001b[0m     warnings\u001b[38;5;241m.\u001b[39mwarn(\n\u001b[0;32m     37\u001b[0m         \u001b[38;5;124m\"\u001b[39m\u001b[38;5;124mPass the following variable\u001b[39m\u001b[38;5;132;01m{}\u001b[39;00m\u001b[38;5;124m as \u001b[39m\u001b[38;5;132;01m{}\u001b[39;00m\u001b[38;5;124mkeyword arg\u001b[39m\u001b[38;5;132;01m{}\u001b[39;00m\u001b[38;5;124m: \u001b[39m\u001b[38;5;132;01m{}\u001b[39;00m\u001b[38;5;124m. \u001b[39m\u001b[38;5;124m\"\u001b[39m\n\u001b[0;32m     38\u001b[0m         \u001b[38;5;124m\"\u001b[39m\u001b[38;5;124mFrom version 0.12, the only valid positional argument \u001b[39m\u001b[38;5;124m\"\u001b[39m\n\u001b[1;32m   (...)\u001b[0m\n\u001b[0;32m     43\u001b[0m         \u001b[38;5;167;01mFutureWarning\u001b[39;00m\n\u001b[0;32m     44\u001b[0m     )\n\u001b[0;32m     45\u001b[0m kwargs\u001b[38;5;241m.\u001b[39mupdate({k: arg \u001b[38;5;28;01mfor\u001b[39;00m k, arg \u001b[38;5;129;01min\u001b[39;00m \u001b[38;5;28mzip\u001b[39m(sig\u001b[38;5;241m.\u001b[39mparameters, args)})\n\u001b[1;32m---> 46\u001b[0m \u001b[38;5;28;01mreturn\u001b[39;00m f(\u001b[38;5;241m*\u001b[39m\u001b[38;5;241m*\u001b[39mkwargs)\n",
      "File \u001b[1;32mC:\\ProgramData\\Anaconda\\lib\\site-packages\\seaborn\\axisgrid.py:2230\u001b[0m, in \u001b[0;36mjointplot\u001b[1;34m(x, y, data, kind, color, height, ratio, space, dropna, xlim, ylim, marginal_ticks, joint_kws, marginal_kws, hue, palette, hue_order, hue_norm, **kwargs)\u001b[0m\n\u001b[0;32m   2227\u001b[0m     dropna \u001b[38;5;241m=\u001b[39m \u001b[38;5;28;01mTrue\u001b[39;00m\n\u001b[0;32m   2229\u001b[0m \u001b[38;5;66;03m# Initialize the JointGrid object\u001b[39;00m\n\u001b[1;32m-> 2230\u001b[0m grid \u001b[38;5;241m=\u001b[39m \u001b[43mJointGrid\u001b[49m\u001b[43m(\u001b[49m\n\u001b[0;32m   2231\u001b[0m \u001b[43m    \u001b[49m\u001b[43mdata\u001b[49m\u001b[38;5;241;43m=\u001b[39;49m\u001b[43mdata\u001b[49m\u001b[43m,\u001b[49m\u001b[43m \u001b[49m\u001b[43mx\u001b[49m\u001b[38;5;241;43m=\u001b[39;49m\u001b[43mx\u001b[49m\u001b[43m,\u001b[49m\u001b[43m \u001b[49m\u001b[43my\u001b[49m\u001b[38;5;241;43m=\u001b[39;49m\u001b[43my\u001b[49m\u001b[43m,\u001b[49m\u001b[43m \u001b[49m\u001b[43mhue\u001b[49m\u001b[38;5;241;43m=\u001b[39;49m\u001b[43mhue\u001b[49m\u001b[43m,\u001b[49m\n\u001b[0;32m   2232\u001b[0m \u001b[43m    \u001b[49m\u001b[43mpalette\u001b[49m\u001b[38;5;241;43m=\u001b[39;49m\u001b[43mpalette\u001b[49m\u001b[43m,\u001b[49m\u001b[43m \u001b[49m\u001b[43mhue_order\u001b[49m\u001b[38;5;241;43m=\u001b[39;49m\u001b[43mhue_order\u001b[49m\u001b[43m,\u001b[49m\u001b[43m \u001b[49m\u001b[43mhue_norm\u001b[49m\u001b[38;5;241;43m=\u001b[39;49m\u001b[43mhue_norm\u001b[49m\u001b[43m,\u001b[49m\n\u001b[0;32m   2233\u001b[0m \u001b[43m    \u001b[49m\u001b[43mdropna\u001b[49m\u001b[38;5;241;43m=\u001b[39;49m\u001b[43mdropna\u001b[49m\u001b[43m,\u001b[49m\u001b[43m \u001b[49m\u001b[43mheight\u001b[49m\u001b[38;5;241;43m=\u001b[39;49m\u001b[43mheight\u001b[49m\u001b[43m,\u001b[49m\u001b[43m \u001b[49m\u001b[43mratio\u001b[49m\u001b[38;5;241;43m=\u001b[39;49m\u001b[43mratio\u001b[49m\u001b[43m,\u001b[49m\u001b[43m \u001b[49m\u001b[43mspace\u001b[49m\u001b[38;5;241;43m=\u001b[39;49m\u001b[43mspace\u001b[49m\u001b[43m,\u001b[49m\n\u001b[0;32m   2234\u001b[0m \u001b[43m    \u001b[49m\u001b[43mxlim\u001b[49m\u001b[38;5;241;43m=\u001b[39;49m\u001b[43mxlim\u001b[49m\u001b[43m,\u001b[49m\u001b[43m \u001b[49m\u001b[43mylim\u001b[49m\u001b[38;5;241;43m=\u001b[39;49m\u001b[43mylim\u001b[49m\u001b[43m,\u001b[49m\u001b[43m \u001b[49m\u001b[43mmarginal_ticks\u001b[49m\u001b[38;5;241;43m=\u001b[39;49m\u001b[43mmarginal_ticks\u001b[49m\u001b[43m,\u001b[49m\n\u001b[0;32m   2235\u001b[0m \u001b[43m\u001b[49m\u001b[43m)\u001b[49m\n\u001b[0;32m   2237\u001b[0m \u001b[38;5;28;01mif\u001b[39;00m grid\u001b[38;5;241m.\u001b[39mhue \u001b[38;5;129;01mis\u001b[39;00m \u001b[38;5;129;01mnot\u001b[39;00m \u001b[38;5;28;01mNone\u001b[39;00m:\n\u001b[0;32m   2238\u001b[0m     marginal_kws\u001b[38;5;241m.\u001b[39msetdefault(\u001b[38;5;124m\"\u001b[39m\u001b[38;5;124mlegend\u001b[39m\u001b[38;5;124m\"\u001b[39m, \u001b[38;5;28;01mFalse\u001b[39;00m)\n",
      "File \u001b[1;32mC:\\ProgramData\\Anaconda\\lib\\site-packages\\seaborn\\_decorators.py:46\u001b[0m, in \u001b[0;36m_deprecate_positional_args.<locals>.inner_f\u001b[1;34m(*args, **kwargs)\u001b[0m\n\u001b[0;32m     36\u001b[0m     warnings\u001b[38;5;241m.\u001b[39mwarn(\n\u001b[0;32m     37\u001b[0m         \u001b[38;5;124m\"\u001b[39m\u001b[38;5;124mPass the following variable\u001b[39m\u001b[38;5;132;01m{}\u001b[39;00m\u001b[38;5;124m as \u001b[39m\u001b[38;5;132;01m{}\u001b[39;00m\u001b[38;5;124mkeyword arg\u001b[39m\u001b[38;5;132;01m{}\u001b[39;00m\u001b[38;5;124m: \u001b[39m\u001b[38;5;132;01m{}\u001b[39;00m\u001b[38;5;124m. \u001b[39m\u001b[38;5;124m\"\u001b[39m\n\u001b[0;32m     38\u001b[0m         \u001b[38;5;124m\"\u001b[39m\u001b[38;5;124mFrom version 0.12, the only valid positional argument \u001b[39m\u001b[38;5;124m\"\u001b[39m\n\u001b[1;32m   (...)\u001b[0m\n\u001b[0;32m     43\u001b[0m         \u001b[38;5;167;01mFutureWarning\u001b[39;00m\n\u001b[0;32m     44\u001b[0m     )\n\u001b[0;32m     45\u001b[0m kwargs\u001b[38;5;241m.\u001b[39mupdate({k: arg \u001b[38;5;28;01mfor\u001b[39;00m k, arg \u001b[38;5;129;01min\u001b[39;00m \u001b[38;5;28mzip\u001b[39m(sig\u001b[38;5;241m.\u001b[39mparameters, args)})\n\u001b[1;32m---> 46\u001b[0m \u001b[38;5;28;01mreturn\u001b[39;00m f(\u001b[38;5;241m*\u001b[39m\u001b[38;5;241m*\u001b[39mkwargs)\n",
      "File \u001b[1;32mC:\\ProgramData\\Anaconda\\lib\\site-packages\\seaborn\\axisgrid.py:1702\u001b[0m, in \u001b[0;36mJointGrid.__init__\u001b[1;34m(self, x, y, data, height, ratio, space, dropna, xlim, ylim, size, marginal_ticks, hue, palette, hue_order, hue_norm)\u001b[0m\n\u001b[0;32m   1699\u001b[0m     ax_marg_y\u001b[38;5;241m.\u001b[39mxaxis\u001b[38;5;241m.\u001b[39mgrid(\u001b[38;5;28;01mFalse\u001b[39;00m)\n\u001b[0;32m   1701\u001b[0m \u001b[38;5;66;03m# Process the input variables\u001b[39;00m\n\u001b[1;32m-> 1702\u001b[0m p \u001b[38;5;241m=\u001b[39m \u001b[43mVectorPlotter\u001b[49m\u001b[43m(\u001b[49m\u001b[43mdata\u001b[49m\u001b[38;5;241;43m=\u001b[39;49m\u001b[43mdata\u001b[49m\u001b[43m,\u001b[49m\u001b[43m \u001b[49m\u001b[43mvariables\u001b[49m\u001b[38;5;241;43m=\u001b[39;49m\u001b[38;5;28;43mdict\u001b[39;49m\u001b[43m(\u001b[49m\u001b[43mx\u001b[49m\u001b[38;5;241;43m=\u001b[39;49m\u001b[43mx\u001b[49m\u001b[43m,\u001b[49m\u001b[43m \u001b[49m\u001b[43my\u001b[49m\u001b[38;5;241;43m=\u001b[39;49m\u001b[43my\u001b[49m\u001b[43m,\u001b[49m\u001b[43m \u001b[49m\u001b[43mhue\u001b[49m\u001b[38;5;241;43m=\u001b[39;49m\u001b[43mhue\u001b[49m\u001b[43m)\u001b[49m\u001b[43m)\u001b[49m\n\u001b[0;32m   1703\u001b[0m plot_data \u001b[38;5;241m=\u001b[39m p\u001b[38;5;241m.\u001b[39mplot_data\u001b[38;5;241m.\u001b[39mloc[:, p\u001b[38;5;241m.\u001b[39mplot_data\u001b[38;5;241m.\u001b[39mnotna()\u001b[38;5;241m.\u001b[39many()]\n\u001b[0;32m   1705\u001b[0m \u001b[38;5;66;03m# Possibly drop NA\u001b[39;00m\n",
      "File \u001b[1;32mC:\\ProgramData\\Anaconda\\lib\\site-packages\\seaborn\\_core.py:605\u001b[0m, in \u001b[0;36mVectorPlotter.__init__\u001b[1;34m(self, data, variables)\u001b[0m\n\u001b[0;32m    603\u001b[0m \u001b[38;5;28;01mdef\u001b[39;00m \u001b[38;5;21m__init__\u001b[39m(\u001b[38;5;28mself\u001b[39m, data\u001b[38;5;241m=\u001b[39m\u001b[38;5;28;01mNone\u001b[39;00m, variables\u001b[38;5;241m=\u001b[39m{}):\n\u001b[1;32m--> 605\u001b[0m     \u001b[38;5;28;43mself\u001b[39;49m\u001b[38;5;241;43m.\u001b[39;49m\u001b[43massign_variables\u001b[49m\u001b[43m(\u001b[49m\u001b[43mdata\u001b[49m\u001b[43m,\u001b[49m\u001b[43m \u001b[49m\u001b[43mvariables\u001b[49m\u001b[43m)\u001b[49m\n\u001b[0;32m    607\u001b[0m     \u001b[38;5;28;01mfor\u001b[39;00m var, \u001b[38;5;28mcls\u001b[39m \u001b[38;5;129;01min\u001b[39;00m \u001b[38;5;28mself\u001b[39m\u001b[38;5;241m.\u001b[39m_semantic_mappings\u001b[38;5;241m.\u001b[39mitems():\n\u001b[0;32m    608\u001b[0m \n\u001b[0;32m    609\u001b[0m         \u001b[38;5;66;03m# Create the mapping function\u001b[39;00m\n\u001b[0;32m    610\u001b[0m         map_func \u001b[38;5;241m=\u001b[39m partial(\u001b[38;5;28mcls\u001b[39m\u001b[38;5;241m.\u001b[39mmap, plotter\u001b[38;5;241m=\u001b[39m\u001b[38;5;28mself\u001b[39m)\n",
      "File \u001b[1;32mC:\\ProgramData\\Anaconda\\lib\\site-packages\\seaborn\\_core.py:668\u001b[0m, in \u001b[0;36mVectorPlotter.assign_variables\u001b[1;34m(self, data, variables)\u001b[0m\n\u001b[0;32m    666\u001b[0m \u001b[38;5;28;01melse\u001b[39;00m:\n\u001b[0;32m    667\u001b[0m     \u001b[38;5;28mself\u001b[39m\u001b[38;5;241m.\u001b[39minput_format \u001b[38;5;241m=\u001b[39m \u001b[38;5;124m\"\u001b[39m\u001b[38;5;124mlong\u001b[39m\u001b[38;5;124m\"\u001b[39m\n\u001b[1;32m--> 668\u001b[0m     plot_data, variables \u001b[38;5;241m=\u001b[39m \u001b[38;5;28mself\u001b[39m\u001b[38;5;241m.\u001b[39m_assign_variables_longform(\n\u001b[0;32m    669\u001b[0m         data, \u001b[38;5;241m*\u001b[39m\u001b[38;5;241m*\u001b[39mvariables,\n\u001b[0;32m    670\u001b[0m     )\n\u001b[0;32m    672\u001b[0m \u001b[38;5;28mself\u001b[39m\u001b[38;5;241m.\u001b[39mplot_data \u001b[38;5;241m=\u001b[39m plot_data\n\u001b[0;32m    673\u001b[0m \u001b[38;5;28mself\u001b[39m\u001b[38;5;241m.\u001b[39mvariables \u001b[38;5;241m=\u001b[39m variables\n",
      "File \u001b[1;32mC:\\ProgramData\\Anaconda\\lib\\site-packages\\seaborn\\_core.py:903\u001b[0m, in \u001b[0;36mVectorPlotter._assign_variables_longform\u001b[1;34m(self, data, **kwargs)\u001b[0m\n\u001b[0;32m    898\u001b[0m \u001b[38;5;28;01melif\u001b[39;00m \u001b[38;5;28misinstance\u001b[39m(val, (\u001b[38;5;28mstr\u001b[39m, \u001b[38;5;28mbytes\u001b[39m)):\n\u001b[0;32m    899\u001b[0m \n\u001b[0;32m    900\u001b[0m     \u001b[38;5;66;03m# This looks like a column name but we don't know what it means!\u001b[39;00m\n\u001b[0;32m    902\u001b[0m     err \u001b[38;5;241m=\u001b[39m \u001b[38;5;124mf\u001b[39m\u001b[38;5;124m\"\u001b[39m\u001b[38;5;124mCould not interpret value `\u001b[39m\u001b[38;5;132;01m{\u001b[39;00mval\u001b[38;5;132;01m}\u001b[39;00m\u001b[38;5;124m` for parameter `\u001b[39m\u001b[38;5;132;01m{\u001b[39;00mkey\u001b[38;5;132;01m}\u001b[39;00m\u001b[38;5;124m`\u001b[39m\u001b[38;5;124m\"\u001b[39m\n\u001b[1;32m--> 903\u001b[0m     \u001b[38;5;28;01mraise\u001b[39;00m \u001b[38;5;167;01mValueError\u001b[39;00m(err)\n\u001b[0;32m    905\u001b[0m \u001b[38;5;28;01melse\u001b[39;00m:\n\u001b[0;32m    906\u001b[0m \n\u001b[0;32m    907\u001b[0m     \u001b[38;5;66;03m# Otherwise, assume the value is itself data\u001b[39;00m\n\u001b[0;32m    908\u001b[0m \n\u001b[0;32m    909\u001b[0m     \u001b[38;5;66;03m# Raise when data object is present and a vector can't matched\u001b[39;00m\n\u001b[0;32m    910\u001b[0m     \u001b[38;5;28;01mif\u001b[39;00m \u001b[38;5;28misinstance\u001b[39m(data, pd\u001b[38;5;241m.\u001b[39mDataFrame) \u001b[38;5;129;01mand\u001b[39;00m \u001b[38;5;129;01mnot\u001b[39;00m \u001b[38;5;28misinstance\u001b[39m(val, pd\u001b[38;5;241m.\u001b[39mSeries):\n",
      "\u001b[1;31mValueError\u001b[0m: Could not interpret value `dif_points` for parameter `x`"
     ]
    },
    {
     "data": {
      "image/png": "[encoded data removed]",
      "text/plain": [
       "<Figure size 432x432 with 3 Axes>"
      ]
     },
     "metadata": {
      "needs_background": "light"
     },
     "output_type": "display_data"
    }
   ],
   "source": [
    "sns.jointplot(data = data_difs, x = 'dif_points', y = 'dif_points_l5', kind=\"reg\")\n",
    "plt.show()"
   ]
  },
  {
   "cell_type": "code",
   "execution_count": 49,
   "id": "8d82ad78",
   "metadata": {},
   "outputs": [
    {
     "data": {
      "text/html": [
       "<div>\n",
       "<style scoped>\n",
       "    .dataframe tbody tr th:only-of-type {\n",
       "        vertical-align: middle;\n",
       "    }\n",
       "\n",
       "    .dataframe tbody tr th {\n",
       "        vertical-align: top;\n",
       "    }\n",
       "\n",
       "    .dataframe thead th {\n",
       "        text-align: right;\n",
       "    }\n",
       "</style>\n",
       "<table border=\"1\" class=\"dataframe\">\n",
       "  <thead>\n",
       "    <tr style=\"text-align: right;\">\n",
       "      <th></th>\n",
       "      <th>home_team</th>\n",
       "      <th>away_team</th>\n",
       "      <th>target</th>\n",
       "      <th>rank_dif</th>\n",
       "      <th>goals_dif</th>\n",
       "      <th>goals_dif_l5</th>\n",
       "      <th>goals_suf_dif</th>\n",
       "      <th>goals_suf_dif_l5</th>\n",
       "      <th>goals_per_ranking_dif</th>\n",
       "      <th>dif_rank_agst</th>\n",
       "      <th>dif_rank_agst_l5</th>\n",
       "      <th>dif_points_rank</th>\n",
       "      <th>dif_points_rank_l5</th>\n",
       "      <th>is_friendly_0</th>\n",
       "      <th>is_friendly_1</th>\n",
       "    </tr>\n",
       "  </thead>\n",
       "  <tbody>\n",
       "    <tr>\n",
       "      <th>4</th>\n",
       "      <td>Barbados</td>\n",
       "      <td>Cuba</td>\n",
       "      <td>1</td>\n",
       "      <td>-21.0</td>\n",
       "      <td>2.000000</td>\n",
       "      <td>2.0</td>\n",
       "      <td>1.000000</td>\n",
       "      <td>1.0</td>\n",
       "      <td>0.037037</td>\n",
       "      <td>-92.000000</td>\n",
       "      <td>-92.0</td>\n",
       "      <td>0.018519</td>\n",
       "      <td>0.018519</td>\n",
       "      <td>0</td>\n",
       "      <td>1</td>\n",
       "    </tr>\n",
       "    <tr>\n",
       "      <th>6</th>\n",
       "      <td>Barbados</td>\n",
       "      <td>Cuba</td>\n",
       "      <td>1</td>\n",
       "      <td>-21.0</td>\n",
       "      <td>1.000000</td>\n",
       "      <td>1.0</td>\n",
       "      <td>0.500000</td>\n",
       "      <td>0.5</td>\n",
       "      <td>0.008511</td>\n",
       "      <td>-35.500000</td>\n",
       "      <td>-35.5</td>\n",
       "      <td>0.008897</td>\n",
       "      <td>0.008897</td>\n",
       "      <td>0</td>\n",
       "      <td>1</td>\n",
       "    </tr>\n",
       "    <tr>\n",
       "      <th>31</th>\n",
       "      <td>Mongolia</td>\n",
       "      <td>Guam</td>\n",
       "      <td>1</td>\n",
       "      <td>-4.0</td>\n",
       "      <td>4.000000</td>\n",
       "      <td>4.0</td>\n",
       "      <td>-1.000000</td>\n",
       "      <td>-1.0</td>\n",
       "      <td>0.021622</td>\n",
       "      <td>0.000000</td>\n",
       "      <td>0.0</td>\n",
       "      <td>0.016216</td>\n",
       "      <td>0.016216</td>\n",
       "      <td>1</td>\n",
       "      <td>0</td>\n",
       "    </tr>\n",
       "    <tr>\n",
       "      <th>32</th>\n",
       "      <td>Nepal</td>\n",
       "      <td>Bhutan</td>\n",
       "      <td>0</td>\n",
       "      <td>-22.0</td>\n",
       "      <td>1.000000</td>\n",
       "      <td>1.0</td>\n",
       "      <td>0.000000</td>\n",
       "      <td>0.0</td>\n",
       "      <td>0.004975</td>\n",
       "      <td>7.000000</td>\n",
       "      <td>7.0</td>\n",
       "      <td>0.000000</td>\n",
       "      <td>0.000000</td>\n",
       "      <td>1</td>\n",
       "      <td>0</td>\n",
       "    </tr>\n",
       "    <tr>\n",
       "      <th>33</th>\n",
       "      <td>Bangladesh</td>\n",
       "      <td>Pakistan</td>\n",
       "      <td>0</td>\n",
       "      <td>-7.0</td>\n",
       "      <td>-1.000000</td>\n",
       "      <td>-1.0</td>\n",
       "      <td>-0.500000</td>\n",
       "      <td>-0.5</td>\n",
       "      <td>-0.007200</td>\n",
       "      <td>30.500000</td>\n",
       "      <td>30.5</td>\n",
       "      <td>-0.010437</td>\n",
       "      <td>-0.010437</td>\n",
       "      <td>1</td>\n",
       "      <td>0</td>\n",
       "    </tr>\n",
       "    <tr>\n",
       "      <th>...</th>\n",
       "      <td>...</td>\n",
       "      <td>...</td>\n",
       "      <td>...</td>\n",
       "      <td>...</td>\n",
       "      <td>...</td>\n",
       "      <td>...</td>\n",
       "      <td>...</td>\n",
       "      <td>...</td>\n",
       "      <td>...</td>\n",
       "      <td>...</td>\n",
       "      <td>...</td>\n",
       "      <td>...</td>\n",
       "      <td>...</td>\n",
       "      <td>...</td>\n",
       "      <td>...</td>\n",
       "    </tr>\n",
       "    <tr>\n",
       "      <th>3334</th>\n",
       "      <td>Norway</td>\n",
       "      <td>Serbia</td>\n",
       "      <td>1</td>\n",
       "      <td>11.0</td>\n",
       "      <td>-0.038095</td>\n",
       "      <td>-0.8</td>\n",
       "      <td>-0.230159</td>\n",
       "      <td>0.0</td>\n",
       "      <td>-0.005282</td>\n",
       "      <td>9.014286</td>\n",
       "      <td>-3.4</td>\n",
       "      <td>-0.011343</td>\n",
       "      <td>0.016348</td>\n",
       "      <td>1</td>\n",
       "      <td>0</td>\n",
       "    </tr>\n",
       "    <tr>\n",
       "      <th>3335</th>\n",
       "      <td>Sweden</td>\n",
       "      <td>Slovenia</td>\n",
       "      <td>1</td>\n",
       "      <td>-45.0</td>\n",
       "      <td>0.030812</td>\n",
       "      <td>0.2</td>\n",
       "      <td>0.137255</td>\n",
       "      <td>0.2</td>\n",
       "      <td>0.009459</td>\n",
       "      <td>-25.102241</td>\n",
       "      <td>10.2</td>\n",
       "      <td>0.022485</td>\n",
       "      <td>-0.020314</td>\n",
       "      <td>1</td>\n",
       "      <td>0</td>\n",
       "    </tr>\n",
       "    <tr>\n",
       "      <th>3336</th>\n",
       "      <td>Kosovo</td>\n",
       "      <td>Cyprus</td>\n",
       "      <td>0</td>\n",
       "      <td>-2.0</td>\n",
       "      <td>0.667341</td>\n",
       "      <td>0.6</td>\n",
       "      <td>-0.463094</td>\n",
       "      <td>0.0</td>\n",
       "      <td>0.007625</td>\n",
       "      <td>7.037917</td>\n",
       "      <td>1.6</td>\n",
       "      <td>0.008791</td>\n",
       "      <td>-0.002827</td>\n",
       "      <td>1</td>\n",
       "      <td>0</td>\n",
       "    </tr>\n",
       "    <tr>\n",
       "      <th>3337</th>\n",
       "      <td>Greece</td>\n",
       "      <td>Northern Ireland</td>\n",
       "      <td>0</td>\n",
       "      <td>-9.0</td>\n",
       "      <td>0.067653</td>\n",
       "      <td>0.2</td>\n",
       "      <td>-0.369979</td>\n",
       "      <td>-1.2</td>\n",
       "      <td>-0.002915</td>\n",
       "      <td>16.024841</td>\n",
       "      <td>0.6</td>\n",
       "      <td>0.027775</td>\n",
       "      <td>0.018570</td>\n",
       "      <td>1</td>\n",
       "      <td>0</td>\n",
       "    </tr>\n",
       "    <tr>\n",
       "      <th>3338</th>\n",
       "      <td>Fiji</td>\n",
       "      <td>Solomon Islands</td>\n",
       "      <td>0</td>\n",
       "      <td>26.0</td>\n",
       "      <td>-1.119048</td>\n",
       "      <td>-0.6</td>\n",
       "      <td>-0.634921</td>\n",
       "      <td>-0.8</td>\n",
       "      <td>-0.006351</td>\n",
       "      <td>-7.476190</td>\n",
       "      <td>5.8</td>\n",
       "      <td>-0.000581</td>\n",
       "      <td>-0.003519</td>\n",
       "      <td>1</td>\n",
       "      <td>0</td>\n",
       "    </tr>\n",
       "  </tbody>\n",
       "</table>\n",
       "<p>3204 rows × 15 columns</p>\n",
       "</div>"
      ],
      "text/plain": [
       "       home_team         away_team  target  rank_dif  goals_dif  goals_dif_l5  \\\n",
       "4       Barbados              Cuba       1     -21.0   2.000000           2.0   \n",
       "6       Barbados              Cuba       1     -21.0   1.000000           1.0   \n",
       "31      Mongolia              Guam       1      -4.0   4.000000           4.0   \n",
       "32         Nepal            Bhutan       0     -22.0   1.000000           1.0   \n",
       "33    Bangladesh          Pakistan       0      -7.0  -1.000000          -1.0   \n",
       "...          ...               ...     ...       ...        ...           ...   \n",
       "3334      Norway            Serbia       1      11.0  -0.038095          -0.8   \n",
       "3335      Sweden          Slovenia       1     -45.0   0.030812           0.2   \n",
       "3336      Kosovo            Cyprus       0      -2.0   0.667341           0.6   \n",
       "3337      Greece  Northern Ireland       0      -9.0   0.067653           0.2   \n",
       "3338        Fiji   Solomon Islands       0      26.0  -1.119048          -0.6   \n",
       "\n",
       "      goals_suf_dif  goals_suf_dif_l5  goals_per_ranking_dif  dif_rank_agst  \\\n",
       "4          1.000000               1.0               0.037037     -92.000000   \n",
       "6          0.500000               0.5               0.008511     -35.500000   \n",
       "31        -1.000000              -1.0               0.021622       0.000000   \n",
       "32         0.000000               0.0               0.004975       7.000000   \n",
       "33        -0.500000              -0.5              -0.007200      30.500000   \n",
       "...             ...               ...                    ...            ...   \n",
       "3334      -0.230159               0.0              -0.005282       9.014286   \n",
       "3335       0.137255               0.2               0.009459     -25.102241   \n",
       "3336      -0.463094               0.0               0.007625       7.037917   \n",
       "3337      -0.369979              -1.2              -0.002915      16.024841   \n",
       "3338      -0.634921              -0.8              -0.006351      -7.476190   \n",
       "\n",
       "      dif_rank_agst_l5  dif_points_rank  dif_points_rank_l5  is_friendly_0  \\\n",
       "4                -92.0         0.018519            0.018519              0   \n",
       "6                -35.5         0.008897            0.008897              0   \n",
       "31                 0.0         0.016216            0.016216              1   \n",
       "32                 7.0         0.000000            0.000000              1   \n",
       "33                30.5        -0.010437           -0.010437              1   \n",
       "...                ...              ...                 ...            ...   \n",
       "3334              -3.4        -0.011343            0.016348              1   \n",
       "3335              10.2         0.022485           -0.020314              1   \n",
       "3336               1.6         0.008791           -0.002827              1   \n",
       "3337               0.6         0.027775            0.018570              1   \n",
       "3338               5.8        -0.000581           -0.003519              1   \n",
       "\n",
       "      is_friendly_1  \n",
       "4                 1  \n",
       "6                 1  \n",
       "31                0  \n",
       "32                0  \n",
       "33                0  \n",
       "...             ...  \n",
       "3334              0  \n",
       "3335              0  \n",
       "3336              0  \n",
       "3337              0  \n",
       "3338              0  \n",
       "\n",
       "[3204 rows x 15 columns]"
      ]
     },
     "execution_count": 49,
     "metadata": {},
     "output_type": "execute_result"
    }
   ],
   "source": [
    "def create_db(df):\n",
    "    columns = [\"home_team\", \"away_team\", \"target\", \"rank_dif\", \"home_goals_mean\", \"home_rank_mean\", \"away_goals_mean\", \"away_rank_mean\", \"home_rank_mean_l5\", \"away_rank_mean_l5\", \"home_goals_suf_mean\", \"away_goals_suf_mean\", \"home_goals_mean_l5\", \"away_goals_mean_l5\", \"home_goals_suf_mean_l5\", \"away_goals_suf_mean_l5\", \"home_game_points_rank_mean\", \"home_game_points_rank_mean_l5\", \"away_game_points_rank_mean\", \"away_game_points_rank_mean_l5\",\"is_friendly_0\", \"is_friendly_1\"]\n",
    "    \n",
    "    base = df.loc[:, columns]\n",
    "    base.loc[:, \"goals_dif\"] = base[\"home_goals_mean\"] - base[\"away_goals_mean\"]\n",
    "    base.loc[:, \"goals_dif_l5\"] = base[\"home_goals_mean_l5\"] - base[\"away_goals_mean_l5\"]\n",
    "    base.loc[:, \"goals_suf_dif\"] = base[\"home_goals_suf_mean\"] - base[\"away_goals_suf_mean\"]\n",
    "    base.loc[:, \"goals_suf_dif_l5\"] = base[\"home_goals_suf_mean_l5\"] - base[\"away_goals_suf_mean_l5\"]\n",
    "    base.loc[:, \"goals_per_ranking_dif\"] = (base[\"home_goals_mean\"] / base[\"home_rank_mean\"]) - (base[\"away_goals_mean\"] / base[\"away_rank_mean\"])\n",
    "    base.loc[:, \"dif_rank_agst\"] = base[\"home_rank_mean\"] - base[\"away_rank_mean\"]\n",
    "    base.loc[:, \"dif_rank_agst_l5\"] = base[\"home_rank_mean_l5\"] - base[\"away_rank_mean_l5\"]\n",
    "    base.loc[:, \"dif_points_rank\"] = base[\"home_game_points_rank_mean\"] - base[\"away_game_points_rank_mean\"]\n",
    "    base.loc[:, \"dif_points_rank_l5\"] = base[\"home_game_points_rank_mean_l5\"] - base[\"away_game_points_rank_mean_l5\"]\n",
    "    \n",
    "    model_df = base[[\"home_team\", \"away_team\", \"target\", \"rank_dif\", \"goals_dif\", \"goals_dif_l5\", \"goals_suf_dif\", \"goals_suf_dif_l5\", \"goals_per_ranking_dif\", \"dif_rank_agst\", \"dif_rank_agst_l5\", \"dif_points_rank\", \"dif_points_rank_l5\", \"is_friendly_0\", \"is_friendly_1\"]]\n",
    "    return model_df\n",
    "model_db = create_db(df)\n",
    "model_db\n"
   ]
  },
  {
   "cell_type": "code",
   "execution_count": 50,
   "id": "a5221604",
   "metadata": {},
   "outputs": [],
   "source": [
    "X = model_db.iloc[:, 3:]\n",
    "y = model_db[[\"target\"]]"
   ]
  },
  {
   "cell_type": "code",
   "execution_count": 51,
   "id": "293b6dd3",
   "metadata": {},
   "outputs": [],
   "source": [
    "from sklearn.ensemble import RandomForestClassifier, GradientBoostingClassifier\n",
    "from sklearn.model_selection import train_test_split, GridSearchCV\n",
    "X_train, X_test, y_train, y_test = train_test_split(X, y, test_size= 0.2, random_state=1)"
   ]
  },
  {
   "cell_type": "code",
   "execution_count": 52,
   "id": "848323bf",
   "metadata": {},
   "outputs": [
    {
     "data": {
      "text/plain": [
       "GridSearchCV(cv=3, estimator=GradientBoostingClassifier(random_state=5),\n",
       "             n_jobs=-1,\n",
       "             param_grid={'learning_rate': [0.01, 0.1, 0.5],\n",
       "                         'max_depth': [3, 5, 10], 'max_features': ['sqrt'],\n",
       "                         'min_samples_leaf': [3, 5],\n",
       "                         'min_samples_split': [5, 10],\n",
       "                         'n_estimators': [100, 200]},\n",
       "             verbose=False)"
      ]
     },
     "execution_count": 52,
     "metadata": {},
     "output_type": "execute_result"
    }
   ],
   "source": [
    "gb = GradientBoostingClassifier(random_state=5)\n",
    "\n",
    "params = {\"learning_rate\": [0.01, 0.1, 0.5],\n",
    "            \"min_samples_split\": [5, 10],\n",
    "            \"min_samples_leaf\": [3, 5],\n",
    "            \"max_depth\":[3,5,10],\n",
    "            \"max_features\":[\"sqrt\"],\n",
    "            \"n_estimators\":[100, 200]\n",
    "         } \n",
    "\n",
    "gb_cv = GridSearchCV(gb, params, cv = 3, n_jobs = -1, verbose = False)\n",
    "\n",
    "gb_cv.fit(X_train.values, np.ravel(y_train))"
   ]
  },
  {
   "cell_type": "code",
   "execution_count": 53,
   "id": "eea08d3f",
   "metadata": {},
   "outputs": [],
   "source": [
    "gb = gb_cv.best_estimator_\n"
   ]
  },
  {
   "cell_type": "code",
   "execution_count": 54,
   "id": "d52f3ded",
   "metadata": {},
   "outputs": [
    {
     "data": {
      "text/plain": [
       "GradientBoostingClassifier(learning_rate=0.01, max_features='sqrt',\n",
       "                           min_samples_leaf=3, min_samples_split=5,\n",
       "                           n_estimators=200, random_state=5)"
      ]
     },
     "execution_count": 54,
     "metadata": {},
     "output_type": "execute_result"
    }
   ],
   "source": [
    "gb\n"
   ]
  },
  {
   "cell_type": "code",
   "execution_count": 55,
   "id": "22bd17f1",
   "metadata": {},
   "outputs": [
    {
     "data": {
      "text/plain": [
       "GridSearchCV(cv=3, estimator=RandomForestClassifier(random_state=1), n_jobs=-1,\n",
       "             param_grid={'max_depth': [20], 'max_features': ['sqrt'],\n",
       "                         'max_leaf_nodes': [175], 'min_samples_leaf': [5],\n",
       "                         'min_samples_split': [10], 'n_estimators': [250]},\n",
       "             verbose=False)"
      ]
     },
     "execution_count": 55,
     "metadata": {},
     "output_type": "execute_result"
    }
   ],
   "source": [
    "params_rf = {\"max_depth\": [20],\n",
    "                \"min_samples_split\": [10],\n",
    "                \"max_leaf_nodes\": [175],\n",
    "                \"min_samples_leaf\": [5],\n",
    "                \"n_estimators\": [250],\n",
    "                 \"max_features\": [\"sqrt\"],\n",
    "                }\n",
    "\n",
    "rf = RandomForestClassifier(random_state=1)\n",
    "\n",
    "rf_cv = GridSearchCV(rf, params_rf, cv = 3, n_jobs = -1, verbose = False)\n",
    "\n",
    "rf_cv.fit(X_train.values, np.ravel(y_train))\n"
   ]
  },
  {
   "cell_type": "code",
   "execution_count": 56,
   "id": "f17d229f",
   "metadata": {},
   "outputs": [],
   "source": [
    "rf = rf_cv.best_estimator_\n"
   ]
  },
  {
   "cell_type": "code",
   "execution_count": 57,
   "id": "776df642",
   "metadata": {},
   "outputs": [],
   "source": [
    "from sklearn.metrics import confusion_matrix, roc_curve, roc_auc_score"
   ]
  },
  {
   "cell_type": "code",
   "execution_count": 58,
   "id": "6db36a86",
   "metadata": {},
   "outputs": [
    {
     "data": {
      "image/png": "[encoded data removed]",
      "text/plain": [
       "<Figure size 1080x720 with 1 Axes>"
      ]
     },
     "metadata": {
      "needs_background": "light"
     },
     "output_type": "display_data"
    },
    {
     "data": {
      "image/png": "[encoded data removed]",
      "text/plain": [
       "<Figure size 1080x720 with 2 Axes>"
      ]
     },
     "metadata": {
      "needs_background": "light"
     },
     "output_type": "display_data"
    }
   ],
   "source": [
    "def analyze(model):\n",
    "    fpr, tpr, _ = roc_curve(y_test, model.predict_proba(X_test.values)[:,1]) #test AUC\n",
    "    plt.figure(figsize=(15,10))\n",
    "    plt.plot([0, 1], [0, 1], 'k--')\n",
    "    plt.plot(fpr, tpr, label=\"test\")\n",
    "\n",
    "    fpr_train, tpr_train, _ = roc_curve(y_train, model.predict_proba(X_train.values)[:,1]) #train AUC\n",
    "    plt.plot(fpr_train, tpr_train, label=\"train\")\n",
    "    auc_test = roc_auc_score(y_test, model.predict_proba(X_test.values)[:,1])\n",
    "    auc_train = roc_auc_score(y_train, model.predict_proba(X_train.values)[:,1])\n",
    "    plt.legend()\n",
    "    plt.title('AUC score is %.2f on test and %.2f on training'%(auc_test, auc_train))\n",
    "    plt.show()\n",
    "    \n",
    "    plt.figure(figsize=(15, 10))\n",
    "    cm = confusion_matrix(y_test, model.predict(X_test.values))\n",
    "    sns.heatmap(cm, annot=True, fmt=\"d\")\n",
    "analyze(gb)"
   ]
  },
  {
   "cell_type": "code",
   "execution_count": 59,
   "id": "4dc90a88",
   "metadata": {},
   "outputs": [
    {
     "data": {
      "image/png": "[encoded data removed]",
      "text/plain": [
       "<Figure size 1080x720 with 1 Axes>"
      ]
     },
     "metadata": {
      "needs_background": "light"
     },
     "output_type": "display_data"
    },
    {
     "data": {
      "image/png": "[encoded data removed]",
      "text/plain": [
       "<Figure size 1080x720 with 2 Axes>"
      ]
     },
     "metadata": {
      "needs_background": "light"
     },
     "output_type": "display_data"
    }
   ],
   "source": [
    "analyze(rf)"
   ]
  },
  {
   "cell_type": "code",
   "execution_count": null,
   "id": "a474d182",
   "metadata": {},
   "outputs": [],
   "source": []
  }
 ],
 "metadata": {
  "kernelspec": {
   "display_name": "Python 3 (ipykernel)",
   "language": "python",
   "name": "python3"
  },
  "language_info": {
   "codemirror_mode": {
    "name": "ipython",
    "version": 3
   },
   "file_extension": ".py",
   "mimetype": "text/x-python",
   "name": "python",
   "nbconvert_exporter": "python",
   "pygments_lexer": "ipython3",
   "version": "3.9.12"
  }
 },
 "nbformat": 4,
 "nbformat_minor": 5
}
